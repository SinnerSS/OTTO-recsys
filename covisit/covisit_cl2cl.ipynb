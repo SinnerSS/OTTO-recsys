{
 "cells": [
  {
   "cell_type": "code",
   "execution_count": 1,
   "id": "edd0d74f",
   "metadata": {
    "lines_to_next_cell": 0
   },
   "outputs": [],
   "source": [
    "import cudf\n",
    "from tqdm import tqdm\n",
    "from pathlib import Path"
   ]
  },
  {
   "cell_type": "code",
   "execution_count": 2,
   "id": "ea157d59",
   "metadata": {
    "lines_to_next_cell": 0
   },
   "outputs": [],
   "source": [
    "data_path = Path.cwd().parent / 'preprocess/data'\n",
    "temp_path = Path.cwd() / 'data'\n",
    "if not temp_path.is_dir():\n",
    "    temp_path.mkdir()"
   ]
  },
  {
   "cell_type": "code",
   "execution_count": 3,
   "id": "04508fc6",
   "metadata": {
    "lines_to_next_cell": 0
   },
   "outputs": [],
   "source": [
    "PARTS = 2\n",
    "SIZE = 1.86e6 / PARTS\n",
    "N_CANDIDS = 20"
   ]
  },
  {
   "cell_type": "markdown",
   "id": "8a1fc26b",
   "metadata": {
    "lines_to_next_cell": 0
   },
   "source": [
    "## LB"
   ]
  },
  {
   "cell_type": "code",
   "execution_count": 4,
   "id": "a1e88133",
   "metadata": {
    "lines_to_next_cell": 0
   },
   "outputs": [],
   "source": [
    "lb_in = data_path / 'lb'\n",
    "lb_out = temp_path / 'lb'\n",
    "if not lb_out.is_dir():\n",
    "    lb_out.mkdir()"
   ]
  },
  {
   "cell_type": "code",
   "execution_count": 5,
   "id": "b604984d",
   "metadata": {
    "lines_to_next_cell": 0
   },
   "outputs": [
    {
     "name": "stdout",
     "output_type": "stream",
     "text": [
      "- Part 1/2\n"
     ]
    },
    {
     "name": "stderr",
     "output_type": "stream",
     "text": [
      "100%|██████████| 129/129 [00:34<00:00,  3.75it/s]\n"
     ]
    },
    {
     "name": "stdout",
     "output_type": "stream",
     "text": [
      "- Part 2/2\n"
     ]
    },
    {
     "name": "stderr",
     "output_type": "stream",
     "text": [
      "100%|██████████| 129/129 [00:34<00:00,  3.78it/s]\n"
     ]
    },
    {
     "name": "stdout",
     "output_type": "stream",
     "text": [
      "CPU times: user 37 s, sys: 32.7 s, total: 1min 9s\n",
      "Wall time: 1min 8s\n"
     ]
    }
   ],
   "source": [
    "%%time\n",
    "\n",
    "train_path = lb_in / 'train_parquet'\n",
    "covisit_matrix = []\n",
    "\n",
    "for part in range(PARTS):\n",
    "    print(f'- Part {part + 1}/{PARTS}')\n",
    "    matrix = None\n",
    "    for train_file in tqdm(sorted(train_path.glob('*.parquet'))):\n",
    "        data = cudf.read_parquet(train_file.as_posix())\n",
    "\n",
    "        data = data.loc[data['type'] == 'clicks']\n",
    "        data.drop('type', axis=1, inplace=True) \n",
    "\n",
    "        data['ts'] = (data['ts'] / 1000).astype('int32')\n",
    "        data[['session', 'aid']] = data[['session', 'aid']].astype('int32')\n",
    "\n",
    "        data = data.sort_values(\n",
    "            ['session', 'ts'], ascending=[True, False], ignore_index=True\n",
    "        )\n",
    "        data['n'] = data.groupby('session').cumcount()\n",
    "        data = data.loc[data.n < 30].drop('n', axis=1)\n",
    "\n",
    "        data = data.merge(\n",
    "            data, \n",
    "            on='session',\n",
    "            how='left'\n",
    "        )\n",
    "\n",
    "        data = data.loc[(data['aid_x'] >= part * SIZE) & (data['aid_x'] < (part + 1) * SIZE)]\n",
    "\n",
    "        data = data.loc[\n",
    "            (data['ts_x'] < data['ts_y']) & ((data['ts_x'] - data['ts_y']).abs() < 60 * 60) & (data.aid_x != data.aid_y)\n",
    "        ]\n",
    "\n",
    "        data = data.drop_duplicates(\n",
    "            subset=['session', 'aid_x', 'aid_y'], keep='first'\n",
    "        ).reset_index(drop=True)\n",
    "\n",
    "        data['wgt'] = (1 / 2) ** ((data.ts_x - data.ts_y).abs() / 60 / 60)\n",
    "        data['wgt'] = data['wgt'].astype('float32')\n",
    "\n",
    "        data.drop(['session', 'ts_x', 'ts_y'], axis=1, inplace=True)\n",
    "        data = data.groupby(['aid_x', 'aid_y']).sum()\n",
    "\n",
    "        if matrix is None:\n",
    "            matrix = data\n",
    "        else:\n",
    "            matrix = matrix.add(data, fill_value=0)  # this is the bottleneck operation\n",
    "\n",
    "        del data\n",
    "\n",
    "    matrix = matrix.reset_index().rename(columns={'aid_x': 'aid', 'aid_y': 'candidate'})\n",
    "    matrix = matrix.sort_values(\n",
    "        ['aid', 'wgt'], ascending=[True, False], ignore_index=True\n",
    "    )\n",
    "\n",
    "    matrix['rank'] = matrix.groupby('aid').candidate.cumcount()\n",
    "    matrix = matrix[matrix['rank'] < N_CANDIDS].reset_index(drop=True)\n",
    "    covisit_matrix.append(matrix)\n",
    "\n",
    "covisit_matrix = cudf.concat(covisit_matrix, ignore_index=True)"
   ]
  },
  {
   "cell_type": "code",
   "execution_count": 6,
   "id": "9c07c0db",
   "metadata": {
    "lines_to_next_cell": 0
   },
   "outputs": [],
   "source": [
    "covisit_matrix.to_parquet((lb_out / 'covisit_cl2cl.parquet').as_posix())\n",
    "\n",
    "del covisit_matrix"
   ]
  },
  {
   "cell_type": "markdown",
   "id": "e8d8363a",
   "metadata": {
    "lines_to_next_cell": 0
   },
   "source": [
    "## CV"
   ]
  },
  {
   "cell_type": "code",
   "execution_count": 7,
   "id": "d212232f",
   "metadata": {
    "lines_to_next_cell": 0
   },
   "outputs": [],
   "source": [
    "cv_in = data_path / 'cv'\n",
    "cv_out = temp_path / 'cv'\n",
    "if not cv_out.is_dir():\n",
    "    cv_out.mkdir()"
   ]
  },
  {
   "cell_type": "code",
   "execution_count": 8,
   "id": "7b3c1c81",
   "metadata": {
    "lines_to_next_cell": 0
   },
   "outputs": [
    {
     "name": "stdout",
     "output_type": "stream",
     "text": [
      "- Part 1/2\n"
     ]
    },
    {
     "name": "stderr",
     "output_type": "stream",
     "text": [
      "100%|██████████| 106/106 [00:35<00:00,  3.01it/s]\n"
     ]
    },
    {
     "name": "stdout",
     "output_type": "stream",
     "text": [
      "- Part 2/2\n"
     ]
    },
    {
     "name": "stderr",
     "output_type": "stream",
     "text": [
      "100%|██████████| 106/106 [00:34<00:00,  3.05it/s]\n"
     ]
    },
    {
     "name": "stdout",
     "output_type": "stream",
     "text": [
      "CPU times: user 37.2 s, sys: 33.7 s, total: 1min 10s\n",
      "Wall time: 1min 10s\n"
     ]
    }
   ],
   "source": [
    "%%time\n",
    "\n",
    "train_path = cv_in / 'train_parquet'\n",
    "covisit_matrix = []\n",
    "\n",
    "for part in range(PARTS):\n",
    "    print(f'- Part {part + 1}/{PARTS}')\n",
    "    matrix = None\n",
    "    for train_file in tqdm(sorted(train_path.glob('*.parquet'))):\n",
    "        data = cudf.read_parquet(train_file.as_posix())\n",
    "\n",
    "        data = data.loc[data['type'] == 'clicks']\n",
    "        data.drop('type', axis=1, inplace=True) \n",
    "\n",
    "        data['ts'] = (data['ts'] / 1000).astype('int32')\n",
    "        data[['session', 'aid']] = data[['session', 'aid']].astype('int32')\n",
    "\n",
    "        data = data.sort_values(\n",
    "            ['session', 'ts'], ascending=[True, False], ignore_index=True\n",
    "        )\n",
    "        data['n'] = data.groupby('session').cumcount()\n",
    "        data = data.loc[data.n < 30].drop('n', axis=1)\n",
    "\n",
    "        data = data.merge(\n",
    "            data, \n",
    "            on='session',\n",
    "            how='left'\n",
    "        )\n",
    "\n",
    "        data = data.loc[(data['aid_x'] >= part * SIZE) & (data['aid_x'] < (part + 1) * SIZE)]\n",
    "\n",
    "        data = data.loc[\n",
    "            ((data['ts_x'] - data['ts_y']).abs() < 60 * 60) & (data.aid_x != data.aid_y)\n",
    "        ]\n",
    "\n",
    "        data = data.drop_duplicates(\n",
    "            subset=['session', 'aid_x', 'aid_y'], keep='first'\n",
    "        ).reset_index(drop=True)\n",
    "\n",
    "        data['wgt'] = (1 / 2) ** ((data.ts_x - data.ts_y).abs() / 60 / 60)\n",
    "        data['wgt'] = data['wgt'].astype('float32')\n",
    "\n",
    "        data.drop(['session', 'ts_x', 'ts_y'], axis=1, inplace=True)\n",
    "        data = data.groupby(['aid_x', 'aid_y']).sum()\n",
    "\n",
    "        if matrix is None:\n",
    "            matrix = data\n",
    "        else:\n",
    "            matrix = matrix.add(data, fill_value=0)  # this is the bottleneck operation\n",
    "\n",
    "        del data\n",
    "\n",
    "    matrix = matrix.reset_index().rename(columns={'aid_x': 'aid', 'aid_y': 'candidate'})\n",
    "    matrix = matrix.sort_values(\n",
    "        ['aid', 'wgt'], ascending=[True, False], ignore_index=True\n",
    "    )\n",
    "\n",
    "    matrix['rank'] = matrix.groupby('aid').candidate.cumcount()\n",
    "    matrix = matrix[matrix['rank'] < N_CANDIDS].reset_index(drop=True)\n",
    "    covisit_matrix.append(matrix)\n",
    "\n",
    "covisit_matrix = cudf.concat(covisit_matrix, ignore_index=True)"
   ]
  },
  {
   "cell_type": "code",
   "execution_count": 9,
   "id": "abfb0b73",
   "metadata": {},
   "outputs": [],
   "source": [
    "covisit_matrix.to_parquet((cv_out / 'covisit_cl2cl.parquet').as_posix())\n",
    "\n",
    "del covisit_matrix"
   ]
  }
 ],
 "metadata": {
  "kernelspec": {
   "display_name": "Python 3 (ipykernel)",
   "language": "python",
   "name": "python3"
  },
  "language_info": {
   "codemirror_mode": {
    "name": "ipython",
    "version": 3
   },
   "file_extension": ".py",
   "mimetype": "text/x-python",
   "name": "python",
   "nbconvert_exporter": "python",
   "pygments_lexer": "ipython3",
   "version": "3.10.12"
  }
 },
 "nbformat": 4,
 "nbformat_minor": 5
}
