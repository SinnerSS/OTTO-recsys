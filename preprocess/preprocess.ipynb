{
 "cells": [
  {
   "cell_type": "code",
   "execution_count": 1,
   "id": "db3bb43c",
   "metadata": {
    "lines_to_next_cell": 0
   },
   "outputs": [],
   "source": [
    "import gc\n",
    "import jsonlines\n",
    "import pandas as pd\n",
    "import pyarrow as pa\n",
    "import pyarrow.parquet as pq\n",
    "from tqdm import tqdm\n",
    "from pathlib import Path"
   ]
  },
  {
   "cell_type": "code",
   "execution_count": 2,
   "id": "23de04b0",
   "metadata": {
    "lines_to_next_cell": 0
   },
   "outputs": [],
   "source": [
    "data_path = Path.cwd().parent / \"data\"\n",
    "temp_path = Path.cwd() / \"data\"\n",
    "if not temp_path.is_dir():\n",
    "    temp_path.mkdir()"
   ]
  },
  {
   "cell_type": "markdown",
   "id": "07db1e75",
   "metadata": {
    "lines_to_next_cell": 0
   },
   "source": [
    "## LB"
   ]
  },
  {
   "cell_type": "code",
   "execution_count": 3,
   "id": "7d36a5d2",
   "metadata": {
    "lines_to_next_cell": 0
   },
   "outputs": [],
   "source": [
    "lb_in = data_path / \"lb\"\n",
    "lb_out = temp_path / \"lb\"\n",
    "if not lb_out.is_dir():\n",
    "    lb_out.mkdir()"
   ]
  },
  {
   "cell_type": "code",
   "execution_count": 4,
   "id": "26e01b2c",
   "metadata": {
    "lines_to_next_cell": 0
   },
   "outputs": [
    {
     "data": {
      "text/plain": [
       "1671803it [00:08, 186319.29it/s]"
      ]
     },
     "metadata": {},
     "output_type": "display_data"
    },
    {
     "data": {
      "text/plain": [
       "\n"
      ]
     },
     "metadata": {},
     "output_type": "display_data"
    },
    {
     "data": {
      "text/plain": [
       "(13851293, 4) (1671803,)\n"
      ]
     },
     "metadata": {},
     "output_type": "display_data"
    }
   ],
   "source": [
    "data_dict = {'session': [], 'aid': [], 'ts': [], 'type': []}\n",
    "\n",
    "with jsonlines.open((lb_in / \"test.jsonl\").as_posix()) as reader:\n",
    "    for result in tqdm(reader):\n",
    "        for event in result['events']:\n",
    "            data_dict['session'].append(result['session'])\n",
    "            data_dict['aid'].append(event['aid'])\n",
    "            data_dict['ts'].append(event['ts'])\n",
    "            data_dict['type'].append(event['type'])\n",
    "\n",
    "data = pd.DataFrame.from_dict(data_dict)\n",
    "print(data.shape, data['session'].drop_duplicates().shape)\n",
    "\n",
    "data.to_parquet((lb_out / \"test.parquet\").as_posix())\n",
    "\n",
    "del data\n",
    "gc.collect();"
   ]
  },
  {
   "cell_type": "code",
   "execution_count": 5,
   "id": "5cfd6d40",
   "metadata": {
    "lines_to_next_cell": 0
   },
   "outputs": [
    {
     "data": {
      "text/plain": [
       "129it [07:54,  3.68s/it]"
      ]
     },
     "metadata": {},
     "output_type": "display_data"
    },
    {
     "data": {
      "text/plain": [
       "\n"
      ]
     },
     "metadata": {},
     "output_type": "display_data"
    }
   ],
   "source": [
    "out = lb_out / \"train.parquet\"\n",
    "if out.exists():\n",
    "    out.unlink()\n",
    "\n",
    "chunksize = 100_000\n",
    "chunks = pd.read_json((lb_in / \"train.jsonl\").as_posix(), lines=True, chunksize=chunksize)\n",
    "pqwriter = None\n",
    "\n",
    "for i, chunk in enumerate(tqdm(chunks)):\n",
    "    data_dict = {\n",
    "        'session': [],\n",
    "        'aid': [],\n",
    "        'ts': [],\n",
    "        'type': [],\n",
    "    }\n",
    "    \n",
    "    for session, events in zip(chunk['session'].tolist(), chunk['events'].tolist()):\n",
    "        for event in events:\n",
    "            data_dict['session'].append(session)\n",
    "            data_dict['aid'].append(event['aid'])\n",
    "            data_dict['ts'].append(event['ts'])\n",
    "            data_dict['type'].append(event['type'])\n",
    "            \n",
    "    df = pd.DataFrame(data_dict)\n",
    "    table = pa.Table.from_pandas(df)\n",
    "    if pqwriter is None:\n",
    "        pqwriter = pq.ParquetWriter(out.as_posix(), table.schema)\n",
    "    pqwriter.write_table(table)\n",
    "\n",
    "    del df\n",
    "    gc.collect()\n",
    "\n",
    "if pqwriter:\n",
    "    pqwriter.close()"
   ]
  },
  {
   "cell_type": "markdown",
   "id": "95459822",
   "metadata": {
    "lines_to_next_cell": 0
   },
   "source": [
    "## CV"
   ]
  },
  {
   "cell_type": "code",
   "execution_count": 6,
   "id": "949a09c5",
   "metadata": {
    "lines_to_next_cell": 0
   },
   "outputs": [],
   "source": [
    "cv_in = data_path / \"cv\"\n",
    "cv_out = temp_path / \"cv\"\n",
    "if not cv_out.is_dir():\n",
    "    cv_out.mkdir()"
   ]
  },
  {
   "cell_type": "code",
   "execution_count": 7,
   "id": "34cfb182",
   "metadata": {
    "lines_to_next_cell": 0
   },
   "outputs": [
    {
     "data": {
      "text/plain": [
       "1783737it [00:08, 221621.92it/s]"
      ]
     },
     "metadata": {},
     "output_type": "display_data"
    },
    {
     "data": {
      "text/plain": [
       "\n"
      ]
     },
     "metadata": {},
     "output_type": "display_data"
    },
    {
     "data": {
      "text/plain": [
       "(7580968, 4) (1783737,)\n"
      ]
     },
     "metadata": {},
     "output_type": "display_data"
    }
   ],
   "source": [
    "data_dict = {'session': [], 'aid': [], 'ts': [], 'type': []}\n",
    "\n",
    "with jsonlines.open((cv_in / \"test_sessions.jsonl\").as_posix()) as reader:\n",
    "    for result in tqdm(reader):\n",
    "        for event in result['events']:\n",
    "            data_dict['session'].append(result['session'])\n",
    "            data_dict['aid'].append(event['aid'])\n",
    "            data_dict['ts'].append(event['ts'])\n",
    "            data_dict['type'].append(event['type'])\n",
    "\n",
    "data = pd.DataFrame.from_dict(data_dict)\n",
    "print(data.shape, data['session'].drop_duplicates().shape)\n",
    "\n",
    "data.to_parquet((cv_out / \"test_sessions.parquet\").as_posix())\n",
    "\n",
    "del data\n",
    "gc.collect();"
   ]
  },
  {
   "cell_type": "code",
   "execution_count": 8,
   "id": "0d15a4c6",
   "metadata": {
    "lines_to_next_cell": 0
   },
   "outputs": [
    {
     "data": {
      "text/plain": [
       "1783737it [00:04, 425579.79it/s]"
      ]
     },
     "metadata": {},
     "output_type": "display_data"
    },
    {
     "data": {
      "text/plain": [
       "\n"
      ]
     },
     "metadata": {},
     "output_type": "display_data"
    },
    {
     "data": {
      "text/plain": [
       "(2619314, 3) (1783737,)\n"
      ]
     },
     "metadata": {},
     "output_type": "display_data"
    }
   ],
   "source": [
    "data_dict = {'session': [], 'aid': [], 'type': []}\n",
    "\n",
    "with jsonlines.open((cv_in / 'test_labels.jsonl').as_posix()) as reader:\n",
    "    for result in tqdm(reader):   \n",
    "        for event in result['labels'].keys():\n",
    "            aids = result['labels'][event]\n",
    "            if not isinstance(aids, list):\n",
    "                aids = [aids]\n",
    "            for aid in aids:\n",
    "                data_dict['session'].append(result['session'])\n",
    "                data_dict['aid'].append(aid)\n",
    "                data_dict['type'].append(event)\n",
    "\n",
    "data = pd.DataFrame.from_dict(data_dict)\n",
    "\n",
    "print(data.shape, data['session'].drop_duplicates().shape)\n",
    "\n",
    "data.to_parquet((cv_out / \"test_labels.parquet\").as_posix())\n",
    "\n",
    "del data\n",
    "gc.collect();"
   ]
  },
  {
   "cell_type": "code",
   "execution_count": 9,
   "id": "fd505a9e",
   "metadata": {
    "lines_to_next_cell": 0
   },
   "outputs": [
    {
     "data": {
      "text/plain": [
       "1783737it [00:12, 141619.46it/s]"
      ]
     },
     "metadata": {},
     "output_type": "display_data"
    },
    {
     "data": {
      "text/plain": [
       "\n"
      ]
     },
     "metadata": {},
     "output_type": "display_data"
    },
    {
     "data": {
      "text/plain": [
       "(15160611, 4) (1783737,)\n"
      ]
     },
     "metadata": {},
     "output_type": "display_data"
    }
   ],
   "source": [
    "data_dict = {'session': [], 'aid': [], 'ts': [], 'type': []}\n",
    "\n",
    "with jsonlines.open((cv_in / \"test_sessions_full.jsonl\").as_posix()) as reader:\n",
    "    for result in tqdm(reader):\n",
    "        for event in result['events']:\n",
    "            data_dict['session'].append(result['session'])\n",
    "            data_dict['aid'].append(event['aid'])\n",
    "            data_dict['ts'].append(event['ts'])\n",
    "            data_dict['type'].append(event['type'])\n",
    "\n",
    "data = pd.DataFrame.from_dict(data_dict)\n",
    "print(data.shape, data['session'].drop_duplicates().shape)\n",
    "\n",
    "data.to_parquet((cv_out / \"test_sessions_full.parquet\").as_posix())\n",
    "\n",
    "del data\n",
    "gc.collect();"
   ]
  },
  {
   "cell_type": "code",
   "execution_count": 10,
   "id": "c779d65c",
   "metadata": {},
   "outputs": [
    {
     "data": {
      "text/plain": [
       "106it [05:39,  3.20s/it]"
      ]
     },
     "metadata": {},
     "output_type": "display_data"
    },
    {
     "data": {
      "text/plain": [
       "\n"
      ]
     },
     "metadata": {},
     "output_type": "display_data"
    }
   ],
   "source": [
    "out = cv_out / \"train_sessions.parquet\"\n",
    "if out.exists():\n",
    "    out.unlink()\n",
    "\n",
    "chunksize = 100_000\n",
    "chunks = pd.read_json((cv_in / \"train_sessions.jsonl\").as_posix(), lines=True, chunksize=chunksize)\n",
    "pqwriter = None\n",
    "\n",
    "for i, chunk in enumerate(tqdm(chunks)):\n",
    "    data_dict = {\n",
    "        'session': [],\n",
    "        'aid': [],\n",
    "        'ts': [],\n",
    "        'type': [],\n",
    "    }\n",
    "    \n",
    "    for session, events in zip(chunk['session'].tolist(), chunk['events'].tolist()):\n",
    "        for event in events:\n",
    "            data_dict['session'].append(session)\n",
    "            data_dict['aid'].append(event['aid'])\n",
    "            data_dict['ts'].append(event['ts'])\n",
    "            data_dict['type'].append(event['type'])\n",
    "            \n",
    "    df = pd.DataFrame(data_dict)\n",
    "    table = pa.Table.from_pandas(df)\n",
    "    if pqwriter is None:\n",
    "        pqwriter = pq.ParquetWriter(out.as_posix(), table.schema)\n",
    "    pqwriter.write_table(table)\n",
    "\n",
    "    del df\n",
    "    gc.collect()\n",
    "\n",
    "if pqwriter:\n",
    "    pqwriter.close()"
   ]
  }
 ],
 "metadata": {
  "kernelspec": {
   "display_name": "Python (otto-recsys)",
   "language": "python",
   "name": "otto-recsys"
  },
  "language_info": {
   "codemirror_mode": {
    "name": "ipython",
    "version": 3
   },
   "file_extension": ".py",
   "mimetype": "text/x-python",
   "name": "python",
   "nbconvert_exporter": "python",
   "pygments_lexer": "ipython3",
   "version": "3.12.8"
  }
 },
 "nbformat": 4,
 "nbformat_minor": 5
}
