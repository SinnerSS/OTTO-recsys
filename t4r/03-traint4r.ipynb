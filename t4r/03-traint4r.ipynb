{
 "cells": [
  {
   "cell_type": "code",
   "execution_count": null,
   "id": "3bece457",
   "metadata": {
    "lines_to_next_cell": 0
   },
   "outputs": [],
   "source": [
    "import gc\n",
    "from pathlib import Path\n",
    "\n",
    "import torch \n",
    "import transformers4rec.torch as tr\n",
    "from transformers4rec.torch import Trainer\n",
    "from transformers4rec.config.trainer import T4RecTrainingArguments\n",
    "from transformers4rec.torch.ranking_metric import NDCGAt, RecallAt\n",
    "from transformers4rec.torch.utils.examples_utils import wipe_memory\n",
    "from transformers4rec.torch.utils.data_utils import MerlinDataLoader\n",
    "\n",
    "from merlin.io import Dataset\n",
    "from merlin.schema import Schema"
   ]
  },
  {
   "cell_type": "code",
   "execution_count": null,
   "id": "7f8f264f",
   "metadata": {
    "lines_to_next_cell": 0
   },
   "outputs": [],
   "source": [
    "data_path = Path.cwd() / 'data'"
   ]
  },
  {
   "cell_type": "markdown",
   "id": "1e7d844d",
   "metadata": {
    "lines_to_next_cell": 0
   },
   "source": [
    "## LB"
   ]
  },
  {
   "cell_type": "code",
   "execution_count": null,
   "id": "193e8f49",
   "metadata": {
    "lines_to_next_cell": 0
   },
   "outputs": [],
   "source": [
    "lb_in = data_path / 'lb'\n",
    "lb_out = data_path / 'lb/model'\n",
    "if not lb_out.is_dir():\n",
    "    lb_out.mkdir()"
   ]
  },
  {
   "cell_type": "code",
   "execution_count": null,
   "id": "cb710946",
   "metadata": {
    "lines_to_next_cell": 0
   },
   "outputs": [],
   "source": [
    "schema_path = lb_in / 'processed_nvt/part_0.parquet'\n",
    "\n",
    "x_cat_names = ['aid-list']\n",
    "x_cont_names = ['product_recency_day_log_norm-list', 't_dow_sin-list', 't_dow_cos-list']\n",
    "\n",
    "train = Dataset(schema_path.as_posix())\n",
    "schema = train.schema\n",
    "schema = schema.select_by_name(x_cat_names + x_cont_names)"
   ]
  },
  {
   "cell_type": "code",
   "execution_count": null,
   "id": "a33e9888",
   "metadata": {
    "lines_to_next_cell": 0
   },
   "outputs": [],
   "source": [
    "sequence_length = 20\n",
    "d_model = 192\n",
    "\n",
    "inputs = tr.TabularSequenceFeatures.from_schema(\n",
    "    schema,\n",
    "    max_sequence_length=sequence_length,\n",
    "    aggregation='concat',\n",
    "    masking='mlm'\n",
    ")\n",
    "\n",
    "trainsformer_config = tr.XLNetConfig.build(\n",
    "    d_model=d_model, n_head=4, n_layer=2, total_sequence_length=sequence_length\n",
    ")\n",
    "\n",
    "body = tr.SequentialBlock(\n",
    "    inputs, tr.MLPBlock([d_model]), tr.TransformerBlock(trainsformer_config, masking=inputs.masking)\n",
    ")\n",
    "\n",
    "head = tr.Head(\n",
    "    body,\n",
    "    tr.NextItemPredictionTask(\n",
    "        weight_tying=True,\n",
    "        metrics=[\n",
    "            NDCGAt(top_ks=[20, 40], labels_onehot=True),\n",
    "            RecallAt(top_ks=[20, 40], labels_onehot=True)\n",
    "        ]\n",
    "    )\n",
    ")\n",
    "\n",
    "model = tr.Model(head)"
   ]
  },
  {
   "cell_type": "code",
   "execution_count": null,
   "id": "c6006507",
   "metadata": {
    "lines_to_next_cell": 0
   },
   "outputs": [],
   "source": [
    "training_args = T4RecTrainingArguments(\n",
    "    output_dir=lb_out.as_posix(),\n",
    "    max_sequence_length=20,\n",
    "    data_loader_engine='merlin',\n",
    "    num_train_epochs=10, \n",
    "    dataloader_drop_last=False,\n",
    "    per_device_train_batch_size=256,\n",
    "    per_device_eval_batch_size=32,\n",
    "    gradient_accumulation_steps=1,\n",
    "    learning_rate=0.000666,\n",
    "    report_to=[],\n",
    "    logging_steps=200,\n",
    ")\n",
    "\n",
    "trainer = Trainer(\n",
    "    model=model,\n",
    "    args=training_args,\n",
    "    schema=schema,\n",
    "    compute_metrics=True,\n",
    ")"
   ]
  },
  {
   "cell_type": "code",
   "execution_count": null,
   "id": "20083b5b",
   "metadata": {},
   "outputs": [],
   "source": [
    "%%time\n",
    "\n",
    "sessions_path = lb_in / 'sessions_by_week'\n",
    "start_window_index = 1\n",
    "end_window_index = 4\n",
    "\n",
    "for time_index in range(start_window_index, end_window_index):\n",
    "    time_index_train = time_index\n",
    "    time_index_eval = time_index + 1\n",
    "    \n",
    "    train_path = (session_path / f'{time_index_train}/train.parquet').as_posix()\n",
    "    eval_path = (session_path / f'{time_index_eval}/valid.parquet').as_posix()\n",
    "\n",
    "    print('*'*20)\n",
    "    print(\"Launch training for day %s are:\" %time_index)\n",
    "    print('*'*20 + '\\n')\n",
    "\n",
    "    trainer.train_dataset_or_path = train_path\n",
    "    trainer.reset_lr_scheduler()\n",
    "    trainer.train()\n",
    "    trainer.state.global_step +=1\n",
    "    \n",
    "    trainer.eval_dataset_or_path = eval_path\n",
    "    train_metrics = trainer.evaluate(metric_key_prefix='eval')\n",
    "    print('*'*20)\n",
    "    print(\"Eval results for day %s are:\\t\" %time_index_eval)\n",
    "    print('\\n' + '*'*20 + '\\n')\n",
    "    for key in sorted(train_metrics.keys()):\n",
    "        print(\" %s = %s\" % (key, str(train_metrics[key]))) \n",
    "    wipe_memory()"
   ]
  }
 ],
 "metadata": {
  "kernelspec": {
   "display_name": "Python 3",
   "language": "python",
   "name": "python3"
  },
  "language_info": {
   "codemirror_mode": {
    "name": "ipython"
   },
   "file_extension": ".py",
   "mimetype": "text/x-python",
   "name": "python",
   "nbconvert_exporter": "python",
   "pygments_lexer": "ipython3"
  }
 },
 "nbformat": 4,
 "nbformat_minor": 5
}
