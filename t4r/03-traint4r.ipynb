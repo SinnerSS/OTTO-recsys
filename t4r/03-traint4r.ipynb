{
 "cells": [
  {
   "cell_type": "code",
   "execution_count": 1,
   "id": "3bece457",
   "metadata": {
    "lines_to_next_cell": 0
   },
   "outputs": [
    {
     "name": "stderr",
     "output_type": "stream",
     "text": [
      "/usr/local/lib/python3.10/dist-packages/merlin/dtypes/mappings/tf.py:52: UserWarning: Tensorflow dtype mappings did not load successfully due to an error: No module named 'tensorflow'\n",
      "  warn(f\"Tensorflow dtype mappings did not load successfully due to an error: {exc.msg}\")\n"
     ]
    }
   ],
   "source": [
    "import gc\n",
    "from pathlib import Path\n",
    "\n",
    "import torch \n",
    "import transformers4rec.torch as tr\n",
    "from transformers4rec.torch import Trainer\n",
    "from transformers4rec.config.trainer import T4RecTrainingArguments\n",
    "from transformers4rec.torch.ranking_metric import NDCGAt, RecallAt\n",
    "from transformers4rec.torch.utils.examples_utils import wipe_memory\n",
    "from transformers4rec.torch.utils.data_utils import MerlinDataLoader\n",
    "\n",
    "from merlin.io import Dataset\n",
    "from merlin.schema import Schema"
   ]
  },
  {
   "cell_type": "code",
   "execution_count": 2,
   "id": "7f8f264f",
   "metadata": {
    "lines_to_next_cell": 0
   },
   "outputs": [],
   "source": [
    "data_path = Path.cwd() / 'data'"
   ]
  },
  {
   "cell_type": "markdown",
   "id": "1e7d844d",
   "metadata": {
    "lines_to_next_cell": 0
   },
   "source": [
    "## LB"
   ]
  },
  {
   "cell_type": "code",
   "execution_count": 3,
   "id": "193e8f49",
   "metadata": {
    "lines_to_next_cell": 0
   },
   "outputs": [],
   "source": [
    "lb_in = data_path / 'lb'\n",
    "lb_out = data_path / 'lb/model'\n",
    "if not lb_out.is_dir():\n",
    "    lb_out.mkdir()"
   ]
  },
  {
   "cell_type": "code",
   "execution_count": 4,
   "id": "cb710946",
   "metadata": {
    "lines_to_next_cell": 0
   },
   "outputs": [],
   "source": [
    "schema_path = lb_in / 'processed_nvt/part_0.parquet'\n",
    "\n",
    "x_cat_names = ['aid-list', 'type-list']\n",
    "x_cont_names = ['product_recency_day_log_norm-list', 't_dow_sin-list', 't_dow_cos-list']\n",
    "\n",
    "train = Dataset(schema_path.as_posix())\n",
    "schema = train.schema\n",
    "schema = schema.select_by_name(x_cat_names + x_cont_names)"
   ]
  },
  {
   "cell_type": "code",
   "execution_count": 5,
   "id": "a33e9888",
   "metadata": {
    "lines_to_next_cell": 0
   },
   "outputs": [
    {
     "name": "stderr",
     "output_type": "stream",
     "text": [
      "Projecting inputs of NextItemPredictionTask to'64' As weight tying requires the input dimension '256' to be equal to the item-id embedding dimension '64'\n"
     ]
    }
   ],
   "source": [
    "sequence_length = 20\n",
    "d_model = 256\n",
    "\n",
    "inputs = tr.TabularSequenceFeatures.from_schema(\n",
    "    schema,\n",
    "    max_sequence_length=sequence_length,\n",
    "    aggregation='concat',\n",
    "    masking='mlm',\n",
    ")\n",
    "\n",
    "trainsformer_config = tr.XLNetConfig.build(\n",
    "    d_model=d_model, n_head=32, n_layer=3, total_sequence_length=sequence_length\n",
    ")\n",
    "\n",
    "body = tr.SequentialBlock(\n",
    "    inputs, tr.MLPBlock([d_model]), tr.TransformerBlock(trainsformer_config, masking=inputs.masking)\n",
    ")\n",
    "\n",
    "head = tr.Head(\n",
    "    body,\n",
    "    tr.NextItemPredictionTask(\n",
    "        weight_tying=True,\n",
    "        softmax_temperature=1.57,\n",
    "        metrics=[\n",
    "            NDCGAt(top_ks=[20, 40], labels_onehot=True),\n",
    "            RecallAt(top_ks=[20, 40], labels_onehot=True)\n",
    "        ]\n",
    "    )\n",
    ")\n",
    "\n",
    "model = tr.Model(head)"
   ]
  },
  {
   "cell_type": "code",
   "execution_count": 6,
   "id": "c6006507",
   "metadata": {
    "lines_to_next_cell": 0
   },
   "outputs": [],
   "source": [
    "training_args = T4RecTrainingArguments(\n",
    "    output_dir=lb_out.as_posix(),\n",
    "    max_sequence_length=20,\n",
    "    data_loader_engine='merlin',\n",
    "    num_train_epochs=2, \n",
    "    dataloader_drop_last=False,\n",
    "    per_device_train_batch_size=256,\n",
    "    per_device_eval_batch_size=32,\n",
    "    gradient_accumulation_steps=1,\n",
    "    learning_rate=0.0005,\n",
    "    lr_scheduler_type='cosine',\n",
    "    learning_rate_num_cosine_cycles_by_epoch=1.5,\n",
    "    report_to=[],\n",
    "    save_steps=1000,\n",
    "    logging_steps=1000,\n",
    "    save_total_limit=3,\n",
    "    evaluation_strategy='steps',\n",
    "    metric_for_best_model='/next-item/recall_at_40',\n",
    "    load_best_model_at_end=True,\n",
    "    predict_top_k=40\n",
    ")\n",
    "\n",
    "trainer = Trainer(\n",
    "    model=model,\n",
    "    args=training_args,\n",
    "    schema=schema,\n",
    "    compute_metrics=True,\n",
    ")"
   ]
  },
  {
   "cell_type": "code",
   "execution_count": 7,
   "id": "fda940e4-30a1-4f6d-9e46-7f927c6cf6b7",
   "metadata": {
    "scrolled": true
   },
   "outputs": [
    {
     "name": "stdout",
     "output_type": "stream",
     "text": [
      "********************\n",
      "Launch training for day 1 are:\n",
      "********************\n",
      "\n"
     ]
    },
    {
     "name": "stderr",
     "output_type": "stream",
     "text": [
      "/usr/local/lib/python3.10/dist-packages/transformers/optimization.py:391: FutureWarning: This implementation of AdamW is deprecated and will be removed in a future version. Use the PyTorch implementation torch.optim.AdamW instead, or set `no_deprecation_warning=True` to disable this warning\n",
      "  warnings.warn(\n"
     ]
    },
    {
     "data": {
      "text/html": [
       "\n",
       "    <div>\n",
       "      \n",
       "      <progress value='38934' max='38934' style='width:300px; height:20px; vertical-align: middle;'></progress>\n",
       "      [38934/38934 1:27:39, Epoch 2/2]\n",
       "    </div>\n",
       "    <table border=\"1\" class=\"dataframe\">\n",
       "  <thead>\n",
       " <tr style=\"text-align: left;\">\n",
       "      <th>Step</th>\n",
       "      <th>Training Loss</th>\n",
       "      <th>Validation Loss</th>\n",
       "      <th>/next-item/ndcg At 20</th>\n",
       "      <th>/next-item/ndcg At 40</th>\n",
       "      <th>/next-item/recall At 20</th>\n",
       "      <th>/next-item/recall At 40</th>\n",
       "      <th>/loss</th>\n",
       "    </tr>\n",
       "  </thead>\n",
       "  <tbody>\n",
       "    <tr>\n",
       "      <td>1000</td>\n",
       "      <td>12.849200</td>\n",
       "      <td>No log</td>\n",
       "      <td>0.004422</td>\n",
       "      <td>0.005949</td>\n",
       "      <td>0.010922</td>\n",
       "      <td>0.018418</td>\n",
       "      <td>12.430210</td>\n",
       "    </tr>\n",
       "    <tr>\n",
       "      <td>2000</td>\n",
       "      <td>12.042800</td>\n",
       "      <td>No log</td>\n",
       "      <td>0.045361</td>\n",
       "      <td>0.049619</td>\n",
       "      <td>0.081654</td>\n",
       "      <td>0.102492</td>\n",
       "      <td>11.681057</td>\n",
       "    </tr>\n",
       "    <tr>\n",
       "      <td>3000</td>\n",
       "      <td>11.345600</td>\n",
       "      <td>No log</td>\n",
       "      <td>0.127400</td>\n",
       "      <td>0.132314</td>\n",
       "      <td>0.183440</td>\n",
       "      <td>0.207468</td>\n",
       "      <td>11.104817</td>\n",
       "    </tr>\n",
       "    <tr>\n",
       "      <td>4000</td>\n",
       "      <td>10.919000</td>\n",
       "      <td>No log</td>\n",
       "      <td>0.169366</td>\n",
       "      <td>0.173759</td>\n",
       "      <td>0.224691</td>\n",
       "      <td>0.246173</td>\n",
       "      <td>10.763364</td>\n",
       "    </tr>\n",
       "    <tr>\n",
       "      <td>5000</td>\n",
       "      <td>10.537100</td>\n",
       "      <td>No log</td>\n",
       "      <td>0.183229</td>\n",
       "      <td>0.187643</td>\n",
       "      <td>0.238646</td>\n",
       "      <td>0.260175</td>\n",
       "      <td>10.605979</td>\n",
       "    </tr>\n",
       "    <tr>\n",
       "      <td>6000</td>\n",
       "      <td>10.467800</td>\n",
       "      <td>No log</td>\n",
       "      <td>0.192131</td>\n",
       "      <td>0.196595</td>\n",
       "      <td>0.247163</td>\n",
       "      <td>0.268944</td>\n",
       "      <td>10.543098</td>\n",
       "    </tr>\n",
       "    <tr>\n",
       "      <td>7000</td>\n",
       "      <td>10.335300</td>\n",
       "      <td>No log</td>\n",
       "      <td>0.191907</td>\n",
       "      <td>0.196357</td>\n",
       "      <td>0.246959</td>\n",
       "      <td>0.268646</td>\n",
       "      <td>10.540532</td>\n",
       "    </tr>\n",
       "    <tr>\n",
       "      <td>8000</td>\n",
       "      <td>10.115500</td>\n",
       "      <td>No log</td>\n",
       "      <td>0.196310</td>\n",
       "      <td>0.200599</td>\n",
       "      <td>0.251501</td>\n",
       "      <td>0.272449</td>\n",
       "      <td>10.509752</td>\n",
       "    </tr>\n",
       "    <tr>\n",
       "      <td>9000</td>\n",
       "      <td>10.205900</td>\n",
       "      <td>No log</td>\n",
       "      <td>0.203240</td>\n",
       "      <td>0.207523</td>\n",
       "      <td>0.258918</td>\n",
       "      <td>0.279835</td>\n",
       "      <td>10.402840</td>\n",
       "    </tr>\n",
       "    <tr>\n",
       "      <td>10000</td>\n",
       "      <td>10.040400</td>\n",
       "      <td>No log</td>\n",
       "      <td>0.217434</td>\n",
       "      <td>0.221725</td>\n",
       "      <td>0.274822</td>\n",
       "      <td>0.295770</td>\n",
       "      <td>10.243583</td>\n",
       "    </tr>\n",
       "    <tr>\n",
       "      <td>11000</td>\n",
       "      <td>9.777700</td>\n",
       "      <td>No log</td>\n",
       "      <td>0.225322</td>\n",
       "      <td>0.229893</td>\n",
       "      <td>0.285445</td>\n",
       "      <td>0.307744</td>\n",
       "      <td>10.042006</td>\n",
       "    </tr>\n",
       "    <tr>\n",
       "      <td>12000</td>\n",
       "      <td>10.038500</td>\n",
       "      <td>No log</td>\n",
       "      <td>0.236685</td>\n",
       "      <td>0.241605</td>\n",
       "      <td>0.302668</td>\n",
       "      <td>0.326618</td>\n",
       "      <td>9.805060</td>\n",
       "    </tr>\n",
       "    <tr>\n",
       "      <td>13000</td>\n",
       "      <td>9.814800</td>\n",
       "      <td>No log</td>\n",
       "      <td>0.238885</td>\n",
       "      <td>0.244213</td>\n",
       "      <td>0.309316</td>\n",
       "      <td>0.335371</td>\n",
       "      <td>9.609805</td>\n",
       "    </tr>\n",
       "    <tr>\n",
       "      <td>14000</td>\n",
       "      <td>9.549500</td>\n",
       "      <td>No log</td>\n",
       "      <td>0.246598</td>\n",
       "      <td>0.252305</td>\n",
       "      <td>0.320426</td>\n",
       "      <td>0.348336</td>\n",
       "      <td>9.468353</td>\n",
       "    </tr>\n",
       "    <tr>\n",
       "      <td>15000</td>\n",
       "      <td>9.392800</td>\n",
       "      <td>No log</td>\n",
       "      <td>0.253664</td>\n",
       "      <td>0.259484</td>\n",
       "      <td>0.332197</td>\n",
       "      <td>0.360562</td>\n",
       "      <td>9.316259</td>\n",
       "    </tr>\n",
       "    <tr>\n",
       "      <td>16000</td>\n",
       "      <td>9.146700</td>\n",
       "      <td>No log</td>\n",
       "      <td>0.259013</td>\n",
       "      <td>0.264969</td>\n",
       "      <td>0.339771</td>\n",
       "      <td>0.368859</td>\n",
       "      <td>9.217620</td>\n",
       "    </tr>\n",
       "    <tr>\n",
       "      <td>17000</td>\n",
       "      <td>8.934300</td>\n",
       "      <td>No log</td>\n",
       "      <td>0.265303</td>\n",
       "      <td>0.271512</td>\n",
       "      <td>0.348069</td>\n",
       "      <td>0.378414</td>\n",
       "      <td>9.120111</td>\n",
       "    </tr>\n",
       "    <tr>\n",
       "      <td>18000</td>\n",
       "      <td>8.863200</td>\n",
       "      <td>No log</td>\n",
       "      <td>0.269497</td>\n",
       "      <td>0.275792</td>\n",
       "      <td>0.353773</td>\n",
       "      <td>0.384464</td>\n",
       "      <td>9.045508</td>\n",
       "    </tr>\n",
       "    <tr>\n",
       "      <td>19000</td>\n",
       "      <td>8.783400</td>\n",
       "      <td>No log</td>\n",
       "      <td>0.269978</td>\n",
       "      <td>0.276393</td>\n",
       "      <td>0.354417</td>\n",
       "      <td>0.385706</td>\n",
       "      <td>9.017816</td>\n",
       "    </tr>\n",
       "    <tr>\n",
       "      <td>20000</td>\n",
       "      <td>8.718700</td>\n",
       "      <td>No log</td>\n",
       "      <td>0.267135</td>\n",
       "      <td>0.273616</td>\n",
       "      <td>0.351149</td>\n",
       "      <td>0.382783</td>\n",
       "      <td>9.054991</td>\n",
       "    </tr>\n",
       "    <tr>\n",
       "      <td>21000</td>\n",
       "      <td>8.607100</td>\n",
       "      <td>No log</td>\n",
       "      <td>0.270481</td>\n",
       "      <td>0.276677</td>\n",
       "      <td>0.355235</td>\n",
       "      <td>0.385517</td>\n",
       "      <td>9.030810</td>\n",
       "    </tr>\n",
       "    <tr>\n",
       "      <td>22000</td>\n",
       "      <td>8.541700</td>\n",
       "      <td>No log</td>\n",
       "      <td>0.271631</td>\n",
       "      <td>0.278158</td>\n",
       "      <td>0.357340</td>\n",
       "      <td>0.389132</td>\n",
       "      <td>9.041869</td>\n",
       "    </tr>\n",
       "    <tr>\n",
       "      <td>23000</td>\n",
       "      <td>8.491100</td>\n",
       "      <td>No log</td>\n",
       "      <td>0.269225</td>\n",
       "      <td>0.275819</td>\n",
       "      <td>0.356900</td>\n",
       "      <td>0.389084</td>\n",
       "      <td>9.037450</td>\n",
       "    </tr>\n",
       "    <tr>\n",
       "      <td>24000</td>\n",
       "      <td>8.473400</td>\n",
       "      <td>No log</td>\n",
       "      <td>0.266194</td>\n",
       "      <td>0.272898</td>\n",
       "      <td>0.355266</td>\n",
       "      <td>0.387969</td>\n",
       "      <td>8.997777</td>\n",
       "    </tr>\n",
       "    <tr>\n",
       "      <td>25000</td>\n",
       "      <td>8.406500</td>\n",
       "      <td>No log</td>\n",
       "      <td>0.262193</td>\n",
       "      <td>0.269077</td>\n",
       "      <td>0.353050</td>\n",
       "      <td>0.386743</td>\n",
       "      <td>9.025693</td>\n",
       "    </tr>\n",
       "    <tr>\n",
       "      <td>26000</td>\n",
       "      <td>8.415600</td>\n",
       "      <td>No log</td>\n",
       "      <td>0.265962</td>\n",
       "      <td>0.272973</td>\n",
       "      <td>0.357922</td>\n",
       "      <td>0.392149</td>\n",
       "      <td>9.039624</td>\n",
       "    </tr>\n",
       "    <tr>\n",
       "      <td>27000</td>\n",
       "      <td>8.046100</td>\n",
       "      <td>No log</td>\n",
       "      <td>0.265086</td>\n",
       "      <td>0.272134</td>\n",
       "      <td>0.359336</td>\n",
       "      <td>0.393705</td>\n",
       "      <td>9.013156</td>\n",
       "    </tr>\n",
       "    <tr>\n",
       "      <td>28000</td>\n",
       "      <td>7.990900</td>\n",
       "      <td>No log</td>\n",
       "      <td>0.268467</td>\n",
       "      <td>0.275808</td>\n",
       "      <td>0.363941</td>\n",
       "      <td>0.399818</td>\n",
       "      <td>8.884335</td>\n",
       "    </tr>\n",
       "    <tr>\n",
       "      <td>29000</td>\n",
       "      <td>7.911100</td>\n",
       "      <td>No log</td>\n",
       "      <td>0.271370</td>\n",
       "      <td>0.278785</td>\n",
       "      <td>0.368592</td>\n",
       "      <td>0.404705</td>\n",
       "      <td>8.890573</td>\n",
       "    </tr>\n",
       "    <tr>\n",
       "      <td>30000</td>\n",
       "      <td>7.784900</td>\n",
       "      <td>No log</td>\n",
       "      <td>0.275882</td>\n",
       "      <td>0.283417</td>\n",
       "      <td>0.374281</td>\n",
       "      <td>0.411022</td>\n",
       "      <td>8.839808</td>\n",
       "    </tr>\n",
       "    <tr>\n",
       "      <td>31000</td>\n",
       "      <td>7.977900</td>\n",
       "      <td>No log</td>\n",
       "      <td>0.282718</td>\n",
       "      <td>0.290392</td>\n",
       "      <td>0.379954</td>\n",
       "      <td>0.417466</td>\n",
       "      <td>8.708379</td>\n",
       "    </tr>\n",
       "    <tr>\n",
       "      <td>32000</td>\n",
       "      <td>8.327000</td>\n",
       "      <td>No log</td>\n",
       "      <td>0.285234</td>\n",
       "      <td>0.292650</td>\n",
       "      <td>0.383003</td>\n",
       "      <td>0.419288</td>\n",
       "      <td>8.665996</td>\n",
       "    </tr>\n",
       "    <tr>\n",
       "      <td>33000</td>\n",
       "      <td>8.312200</td>\n",
       "      <td>No log</td>\n",
       "      <td>0.284850</td>\n",
       "      <td>0.292323</td>\n",
       "      <td>0.382311</td>\n",
       "      <td>0.418880</td>\n",
       "      <td>8.645584</td>\n",
       "    </tr>\n",
       "    <tr>\n",
       "      <td>34000</td>\n",
       "      <td>8.250300</td>\n",
       "      <td>No log</td>\n",
       "      <td>0.285818</td>\n",
       "      <td>0.293383</td>\n",
       "      <td>0.383003</td>\n",
       "      <td>0.419933</td>\n",
       "      <td>8.637621</td>\n",
       "    </tr>\n",
       "    <tr>\n",
       "      <td>35000</td>\n",
       "      <td>8.257000</td>\n",
       "      <td>No log</td>\n",
       "      <td>0.284306</td>\n",
       "      <td>0.291912</td>\n",
       "      <td>0.382689</td>\n",
       "      <td>0.419776</td>\n",
       "      <td>8.671078</td>\n",
       "    </tr>\n",
       "    <tr>\n",
       "      <td>36000</td>\n",
       "      <td>8.202400</td>\n",
       "      <td>No log</td>\n",
       "      <td>0.281566</td>\n",
       "      <td>0.288958</td>\n",
       "      <td>0.380708</td>\n",
       "      <td>0.416853</td>\n",
       "      <td>8.689835</td>\n",
       "    </tr>\n",
       "    <tr>\n",
       "      <td>37000</td>\n",
       "      <td>8.258900</td>\n",
       "      <td>No log</td>\n",
       "      <td>0.276486</td>\n",
       "      <td>0.283797</td>\n",
       "      <td>0.374658</td>\n",
       "      <td>0.410378</td>\n",
       "      <td>8.702907</td>\n",
       "    </tr>\n",
       "    <tr>\n",
       "      <td>38000</td>\n",
       "      <td>8.290400</td>\n",
       "      <td>No log</td>\n",
       "      <td>0.273393</td>\n",
       "      <td>0.280840</td>\n",
       "      <td>0.372725</td>\n",
       "      <td>0.409042</td>\n",
       "      <td>8.707290</td>\n",
       "    </tr>\n",
       "  </tbody>\n",
       "</table><p>"
      ],
      "text/plain": [
       "<IPython.core.display.HTML object>"
      ]
     },
     "metadata": {},
     "output_type": "display_data"
    },
    {
     "name": "stderr",
     "output_type": "stream",
     "text": [
      "IOPub message rate exceeded.\n",
      "The Jupyter server will temporarily stop sending output\n",
      "to the client in order to avoid crashing it.\n",
      "To change this limit, set the config variable\n",
      "`--ServerApp.iopub_msg_rate_limit`.\n",
      "\n",
      "Current values:\n",
      "ServerApp.iopub_msg_rate_limit=1000.0 (msgs/sec)\n",
      "ServerApp.rate_limit_window=3.0 (secs)\n",
      "\n",
      "IOPub message rate exceeded.\n",
      "The Jupyter server will temporarily stop sending output\n",
      "to the client in order to avoid crashing it.\n",
      "To change this limit, set the config variable\n",
      "`--ServerApp.iopub_msg_rate_limit`.\n",
      "\n",
      "Current values:\n",
      "ServerApp.iopub_msg_rate_limit=1000.0 (msgs/sec)\n",
      "ServerApp.rate_limit_window=3.0 (secs)\n",
      "\n"
     ]
    },
    {
     "data": {
      "text/html": [
       "\n",
       "    <div>\n",
       "      \n",
       "      <progress value='3599' max='1989' style='width:300px; height:20px; vertical-align: middle;'></progress>\n",
       "      [1989/1989 02:45]\n",
       "    </div>\n",
       "    "
      ],
      "text/plain": [
       "<IPython.core.display.HTML object>"
      ]
     },
     "metadata": {},
     "output_type": "display_data"
    },
    {
     "name": "stdout",
     "output_type": "stream",
     "text": [
      "********************\n",
      "Eval results for day 2 are:\t\n",
      "\n",
      "********************\n",
      "\n",
      " eval_/loss = 8.63762092590332\n",
      " eval_/next-item/ndcg_at_20 = 0.28581759333610535\n",
      " eval_/next-item/ndcg_at_40 = 0.2933831214904785\n",
      " eval_/next-item/recall_at_20 = 0.3830028176307678\n",
      " eval_/next-item/recall_at_40 = 0.4199327528476715\n",
      " eval_runtime = 32.2132\n",
      " eval_samples_per_second = 1975.834\n",
      " eval_steps_per_second = 61.745\n",
      "********************\n",
      "Launch training for day 2 are:\n",
      "********************\n",
      "\n"
     ]
    },
    {
     "data": {
      "text/html": [
       "\n",
       "    <div>\n",
       "      \n",
       "      <progress value='3960' max='3960' style='width:300px; height:20px; vertical-align: middle;'></progress>\n",
       "      [3960/3960 08:21, Epoch 2/2]\n",
       "    </div>\n",
       "    <table border=\"1\" class=\"dataframe\">\n",
       "  <thead>\n",
       " <tr style=\"text-align: left;\">\n",
       "      <th>Step</th>\n",
       "      <th>Training Loss</th>\n",
       "      <th>Validation Loss</th>\n",
       "      <th>/next-item/ndcg At 20</th>\n",
       "      <th>/next-item/ndcg At 40</th>\n",
       "      <th>/next-item/recall At 20</th>\n",
       "      <th>/next-item/recall At 40</th>\n",
       "      <th>/loss</th>\n",
       "    </tr>\n",
       "  </thead>\n",
       "  <tbody>\n",
       "    <tr>\n",
       "      <td>1000</td>\n",
       "      <td>8.286700</td>\n",
       "      <td>No log</td>\n",
       "      <td>0.282098</td>\n",
       "      <td>0.289261</td>\n",
       "      <td>0.380214</td>\n",
       "      <td>0.415184</td>\n",
       "      <td>8.711696</td>\n",
       "    </tr>\n",
       "    <tr>\n",
       "      <td>2000</td>\n",
       "      <td>8.447900</td>\n",
       "      <td>No log</td>\n",
       "      <td>0.280466</td>\n",
       "      <td>0.288000</td>\n",
       "      <td>0.378563</td>\n",
       "      <td>0.415301</td>\n",
       "      <td>8.674953</td>\n",
       "    </tr>\n",
       "    <tr>\n",
       "      <td>3000</td>\n",
       "      <td>7.788300</td>\n",
       "      <td>No log</td>\n",
       "      <td>0.280272</td>\n",
       "      <td>0.288011</td>\n",
       "      <td>0.378505</td>\n",
       "      <td>0.416214</td>\n",
       "      <td>8.778994</td>\n",
       "    </tr>\n",
       "  </tbody>\n",
       "</table><p>"
      ],
      "text/plain": [
       "<IPython.core.display.HTML object>"
      ]
     },
     "metadata": {},
     "output_type": "display_data"
    },
    {
     "data": {
      "text/html": [
       "\n",
       "    <div>\n",
       "      \n",
       "      <progress value='3011' max='1610' style='width:300px; height:20px; vertical-align: middle;'></progress>\n",
       "      [1610/1610 02:35]\n",
       "    </div>\n",
       "    "
      ],
      "text/plain": [
       "<IPython.core.display.HTML object>"
      ]
     },
     "metadata": {},
     "output_type": "display_data"
    },
    {
     "name": "stdout",
     "output_type": "stream",
     "text": [
      "********************\n",
      "Eval results for day 3 are:\t\n",
      "\n",
      "********************\n",
      "\n",
      " eval_/loss = 8.778993606567383\n",
      " eval_/next-item/ndcg_at_20 = 0.2802716791629791\n",
      " eval_/next-item/ndcg_at_40 = 0.28801071643829346\n",
      " eval_/next-item/recall_at_20 = 0.37850484251976013\n",
      " eval_/next-item/recall_at_40 = 0.4162135720252991\n",
      " eval_runtime = 25.982\n",
      " eval_samples_per_second = 1982.91\n",
      " eval_steps_per_second = 61.966\n",
      "********************\n",
      "Launch training for day 3 are:\n",
      "********************\n",
      "\n"
     ]
    },
    {
     "data": {
      "text/html": [
       "\n",
       "    <div>\n",
       "      \n",
       "      <progress value='3250' max='3250' style='width:300px; height:20px; vertical-align: middle;'></progress>\n",
       "      [3250/3250 07:00, Epoch 2/2]\n",
       "    </div>\n",
       "    <table border=\"1\" class=\"dataframe\">\n",
       "  <thead>\n",
       " <tr style=\"text-align: left;\">\n",
       "      <th>Step</th>\n",
       "      <th>Training Loss</th>\n",
       "      <th>Validation Loss</th>\n",
       "      <th>/next-item/ndcg At 20</th>\n",
       "      <th>/next-item/ndcg At 40</th>\n",
       "      <th>/next-item/recall At 20</th>\n",
       "      <th>/next-item/recall At 40</th>\n",
       "      <th>/loss</th>\n",
       "    </tr>\n",
       "  </thead>\n",
       "  <tbody>\n",
       "    <tr>\n",
       "      <td>1000</td>\n",
       "      <td>8.293100</td>\n",
       "      <td>No log</td>\n",
       "      <td>0.271514</td>\n",
       "      <td>0.279187</td>\n",
       "      <td>0.369940</td>\n",
       "      <td>0.407409</td>\n",
       "      <td>8.811938</td>\n",
       "    </tr>\n",
       "    <tr>\n",
       "      <td>2000</td>\n",
       "      <td>8.186700</td>\n",
       "      <td>No log</td>\n",
       "      <td>0.272595</td>\n",
       "      <td>0.280623</td>\n",
       "      <td>0.371167</td>\n",
       "      <td>0.410221</td>\n",
       "      <td>8.824063</td>\n",
       "    </tr>\n",
       "    <tr>\n",
       "      <td>3000</td>\n",
       "      <td>7.770100</td>\n",
       "      <td>No log</td>\n",
       "      <td>0.275592</td>\n",
       "      <td>0.283379</td>\n",
       "      <td>0.373622</td>\n",
       "      <td>0.411560</td>\n",
       "      <td>8.775298</td>\n",
       "    </tr>\n",
       "  </tbody>\n",
       "</table><p>"
      ],
      "text/plain": [
       "<IPython.core.display.HTML object>"
      ]
     },
     "metadata": {},
     "output_type": "display_data"
    },
    {
     "data": {
      "text/html": [
       "\n",
       "    <div>\n",
       "      \n",
       "      <progress value='2677' max='1401' style='width:300px; height:20px; vertical-align: middle;'></progress>\n",
       "      [1401/1401 02:31]\n",
       "    </div>\n",
       "    "
      ],
      "text/plain": [
       "<IPython.core.display.HTML object>"
      ]
     },
     "metadata": {},
     "output_type": "display_data"
    },
    {
     "name": "stdout",
     "output_type": "stream",
     "text": [
      "********************\n",
      "Eval results for day 4 are:\t\n",
      "\n",
      "********************\n",
      "\n",
      " eval_/loss = 8.775298118591309\n",
      " eval_/next-item/ndcg_at_20 = 0.2755923867225647\n",
      " eval_/next-item/ndcg_at_40 = 0.28337860107421875\n",
      " eval_/next-item/recall_at_20 = 0.37362197041511536\n",
      " eval_/next-item/recall_at_40 = 0.41155993938446045\n",
      " eval_runtime = 22.4413\n",
      " eval_samples_per_second = 1997.748\n",
      " eval_steps_per_second = 62.43\n",
      "********************\n",
      "Launch training for day 4 are:\n",
      "********************\n",
      "\n"
     ]
    },
    {
     "data": {
      "text/html": [
       "\n",
       "    <div>\n",
       "      \n",
       "      <progress value='2806' max='2806' style='width:300px; height:20px; vertical-align: middle;'></progress>\n",
       "      [2806/2806 05:45, Epoch 2/2]\n",
       "    </div>\n",
       "    <table border=\"1\" class=\"dataframe\">\n",
       "  <thead>\n",
       " <tr style=\"text-align: left;\">\n",
       "      <th>Step</th>\n",
       "      <th>Training Loss</th>\n",
       "      <th>Validation Loss</th>\n",
       "      <th>/next-item/ndcg At 20</th>\n",
       "      <th>/next-item/ndcg At 40</th>\n",
       "      <th>/next-item/recall At 20</th>\n",
       "      <th>/next-item/recall At 40</th>\n",
       "      <th>/loss</th>\n",
       "    </tr>\n",
       "  </thead>\n",
       "  <tbody>\n",
       "    <tr>\n",
       "      <td>1000</td>\n",
       "      <td>8.289600</td>\n",
       "      <td>No log</td>\n",
       "      <td>0.272090</td>\n",
       "      <td>0.279565</td>\n",
       "      <td>0.371394</td>\n",
       "      <td>0.407911</td>\n",
       "      <td>8.758719</td>\n",
       "    </tr>\n",
       "    <tr>\n",
       "      <td>2000</td>\n",
       "      <td>8.019800</td>\n",
       "      <td>No log</td>\n",
       "      <td>0.274505</td>\n",
       "      <td>0.282226</td>\n",
       "      <td>0.373255</td>\n",
       "      <td>0.411046</td>\n",
       "      <td>8.831524</td>\n",
       "    </tr>\n",
       "  </tbody>\n",
       "</table><p>"
      ],
      "text/plain": [
       "<IPython.core.display.HTML object>"
      ]
     },
     "metadata": {},
     "output_type": "display_data"
    },
    {
     "data": {
      "text/html": [
       "\n",
       "    <div>\n",
       "      \n",
       "      <progress value='2469' max='1276' style='width:300px; height:20px; vertical-align: middle;'></progress>\n",
       "      [1276/1276 02:29]\n",
       "    </div>\n",
       "    "
      ],
      "text/plain": [
       "<IPython.core.display.HTML object>"
      ]
     },
     "metadata": {},
     "output_type": "display_data"
    },
    {
     "name": "stdout",
     "output_type": "stream",
     "text": [
      "********************\n",
      "Eval results for day 5 are:\t\n",
      "\n",
      "********************\n",
      "\n",
      " eval_/loss = 8.831523895263672\n",
      " eval_/next-item/ndcg_at_20 = 0.27450451254844666\n",
      " eval_/next-item/ndcg_at_40 = 0.2822260558605194\n",
      " eval_/next-item/recall_at_20 = 0.3732549548149109\n",
      " eval_/next-item/recall_at_40 = 0.4110458195209503\n",
      " eval_runtime = 20.6619\n",
      " eval_samples_per_second = 1976.197\n",
      " eval_steps_per_second = 61.756\n",
      "********************\n",
      "Launch training for day 5 are:\n",
      "********************\n",
      "\n"
     ]
    },
    {
     "data": {
      "text/html": [
       "\n",
       "    <div>\n",
       "      \n",
       "      <progress value='2546' max='2546' style='width:300px; height:20px; vertical-align: middle;'></progress>\n",
       "      [2546/2546 05:15, Epoch 2/2]\n",
       "    </div>\n",
       "    <table border=\"1\" class=\"dataframe\">\n",
       "  <thead>\n",
       " <tr style=\"text-align: left;\">\n",
       "      <th>Step</th>\n",
       "      <th>Training Loss</th>\n",
       "      <th>Validation Loss</th>\n",
       "      <th>/next-item/ndcg At 20</th>\n",
       "      <th>/next-item/ndcg At 40</th>\n",
       "      <th>/next-item/recall At 20</th>\n",
       "      <th>/next-item/recall At 40</th>\n",
       "      <th>/loss</th>\n",
       "    </tr>\n",
       "  </thead>\n",
       "  <tbody>\n",
       "    <tr>\n",
       "      <td>1000</td>\n",
       "      <td>8.336700</td>\n",
       "      <td>No log</td>\n",
       "      <td>0.269611</td>\n",
       "      <td>0.277379</td>\n",
       "      <td>0.369790</td>\n",
       "      <td>0.407670</td>\n",
       "      <td>8.737266</td>\n",
       "    </tr>\n",
       "    <tr>\n",
       "      <td>2000</td>\n",
       "      <td>7.977100</td>\n",
       "      <td>No log</td>\n",
       "      <td>0.276077</td>\n",
       "      <td>0.283899</td>\n",
       "      <td>0.377361</td>\n",
       "      <td>0.415582</td>\n",
       "      <td>8.783945</td>\n",
       "    </tr>\n",
       "  </tbody>\n",
       "</table><p>"
      ],
      "text/plain": [
       "<IPython.core.display.HTML object>"
      ]
     },
     "metadata": {},
     "output_type": "display_data"
    },
    {
     "data": {
      "text/html": [
       "\n",
       "    <div>\n",
       "      \n",
       "      <progress value='2347' max='1193' style='width:300px; height:20px; vertical-align: middle;'></progress>\n",
       "      [1193/1193 02:26]\n",
       "    </div>\n",
       "    "
      ],
      "text/plain": [
       "<IPython.core.display.HTML object>"
      ]
     },
     "metadata": {},
     "output_type": "display_data"
    },
    {
     "name": "stdout",
     "output_type": "stream",
     "text": [
      "********************\n",
      "Eval results for day 6 are:\t\n",
      "\n",
      "********************\n",
      "\n",
      " eval_/loss = 8.783945083618164\n",
      " eval_/next-item/ndcg_at_20 = 0.2760774791240692\n",
      " eval_/next-item/ndcg_at_40 = 0.28389883041381836\n",
      " eval_/next-item/recall_at_20 = 0.3773609697818756\n",
      " eval_/next-item/recall_at_40 = 0.41558170318603516\n",
      " eval_runtime = 19.034\n",
      " eval_samples_per_second = 2005.676\n",
      " eval_steps_per_second = 62.677\n",
      "********************\n",
      "Launch training for day 6 are:\n",
      "********************\n",
      "\n"
     ]
    },
    {
     "data": {
      "text/html": [
       "\n",
       "    <div>\n",
       "      \n",
       "      <progress value='2388' max='2388' style='width:300px; height:20px; vertical-align: middle;'></progress>\n",
       "      [2388/2388 04:58, Epoch 2/2]\n",
       "    </div>\n",
       "    <table border=\"1\" class=\"dataframe\">\n",
       "  <thead>\n",
       " <tr style=\"text-align: left;\">\n",
       "      <th>Step</th>\n",
       "      <th>Training Loss</th>\n",
       "      <th>Validation Loss</th>\n",
       "      <th>/next-item/ndcg At 20</th>\n",
       "      <th>/next-item/ndcg At 40</th>\n",
       "      <th>/next-item/recall At 20</th>\n",
       "      <th>/next-item/recall At 40</th>\n",
       "      <th>/loss</th>\n",
       "    </tr>\n",
       "  </thead>\n",
       "  <tbody>\n",
       "    <tr>\n",
       "      <td>1000</td>\n",
       "      <td>8.322500</td>\n",
       "      <td>No log</td>\n",
       "      <td>0.270880</td>\n",
       "      <td>0.278277</td>\n",
       "      <td>0.368320</td>\n",
       "      <td>0.404390</td>\n",
       "      <td>8.800040</td>\n",
       "    </tr>\n",
       "    <tr>\n",
       "      <td>2000</td>\n",
       "      <td>7.883200</td>\n",
       "      <td>No log</td>\n",
       "      <td>0.274670</td>\n",
       "      <td>0.282054</td>\n",
       "      <td>0.373875</td>\n",
       "      <td>0.409865</td>\n",
       "      <td>8.856679</td>\n",
       "    </tr>\n",
       "  </tbody>\n",
       "</table><p>"
      ],
      "text/plain": [
       "<IPython.core.display.HTML object>"
      ]
     },
     "metadata": {},
     "output_type": "display_data"
    },
    {
     "data": {
      "text/html": [
       "\n",
       "    <div>\n",
       "      \n",
       "      <progress value='2267' max='1154' style='width:300px; height:20px; vertical-align: middle;'></progress>\n",
       "      [1154/1154 02:25]\n",
       "    </div>\n",
       "    "
      ],
      "text/plain": [
       "<IPython.core.display.HTML object>"
      ]
     },
     "metadata": {},
     "output_type": "display_data"
    },
    {
     "name": "stdout",
     "output_type": "stream",
     "text": [
      "********************\n",
      "Eval results for day 7 are:\t\n",
      "\n",
      "********************\n",
      "\n",
      " eval_/loss = 8.85667896270752\n",
      " eval_/next-item/ndcg_at_20 = 0.27466967701911926\n",
      " eval_/next-item/ndcg_at_40 = 0.2820536494255066\n",
      " eval_/next-item/recall_at_20 = 0.37387534976005554\n",
      " eval_/next-item/recall_at_40 = 0.40986451506614685\n",
      " eval_runtime = 18.7511\n",
      " eval_samples_per_second = 1969.378\n",
      " eval_steps_per_second = 61.543\n",
      "********************\n",
      "Launch training for day 7 are:\n",
      "********************\n",
      "\n"
     ]
    },
    {
     "data": {
      "text/html": [
       "\n",
       "    <div>\n",
       "      \n",
       "      <progress value='2318' max='2318' style='width:300px; height:20px; vertical-align: middle;'></progress>\n",
       "      [2318/2318 04:50, Epoch 2/2]\n",
       "    </div>\n",
       "    <table border=\"1\" class=\"dataframe\">\n",
       "  <thead>\n",
       " <tr style=\"text-align: left;\">\n",
       "      <th>Step</th>\n",
       "      <th>Training Loss</th>\n",
       "      <th>Validation Loss</th>\n",
       "      <th>/next-item/ndcg At 20</th>\n",
       "      <th>/next-item/ndcg At 40</th>\n",
       "      <th>/next-item/recall At 20</th>\n",
       "      <th>/next-item/recall At 40</th>\n",
       "      <th>/loss</th>\n",
       "    </tr>\n",
       "  </thead>\n",
       "  <tbody>\n",
       "    <tr>\n",
       "      <td>1000</td>\n",
       "      <td>8.326500</td>\n",
       "      <td>No log</td>\n",
       "      <td>0.267295</td>\n",
       "      <td>0.274935</td>\n",
       "      <td>0.367063</td>\n",
       "      <td>0.404387</td>\n",
       "      <td>8.758043</td>\n",
       "    </tr>\n",
       "    <tr>\n",
       "      <td>2000</td>\n",
       "      <td>7.895900</td>\n",
       "      <td>No log</td>\n",
       "      <td>0.271081</td>\n",
       "      <td>0.278622</td>\n",
       "      <td>0.371977</td>\n",
       "      <td>0.408824</td>\n",
       "      <td>8.854773</td>\n",
       "    </tr>\n",
       "  </tbody>\n",
       "</table><p>"
      ],
      "text/plain": [
       "<IPython.core.display.HTML object>"
      ]
     },
     "metadata": {},
     "output_type": "display_data"
    },
    {
     "data": {
      "text/html": [
       "\n",
       "    <div>\n",
       "      \n",
       "      <progress value='2120' max='1113' style='width:300px; height:20px; vertical-align: middle;'></progress>\n",
       "      [1113/1113 02:24]\n",
       "    </div>\n",
       "    "
      ],
      "text/plain": [
       "<IPython.core.display.HTML object>"
      ]
     },
     "metadata": {},
     "output_type": "display_data"
    },
    {
     "name": "stdout",
     "output_type": "stream",
     "text": [
      "********************\n",
      "Eval results for day 8 are:\t\n",
      "\n",
      "********************\n",
      "\n",
      " eval_/loss = 8.854772567749023\n",
      " eval_/next-item/ndcg_at_20 = 0.271080881357193\n",
      " eval_/next-item/ndcg_at_40 = 0.2786215841770172\n",
      " eval_/next-item/recall_at_20 = 0.37197741866111755\n",
      " eval_/next-item/recall_at_40 = 0.4088241159915924\n",
      " eval_runtime = 18.0494\n",
      " eval_samples_per_second = 1973.246\n",
      " eval_steps_per_second = 61.664\n",
      "********************\n",
      "Launch training for day 8 are:\n",
      "********************\n",
      "\n"
     ]
    },
    {
     "data": {
      "text/html": [
       "\n",
       "    <div>\n",
       "      \n",
       "      <progress value='2238' max='2238' style='width:300px; height:20px; vertical-align: middle;'></progress>\n",
       "      [2238/2238 04:40, Epoch 2/2]\n",
       "    </div>\n",
       "    <table border=\"1\" class=\"dataframe\">\n",
       "  <thead>\n",
       " <tr style=\"text-align: left;\">\n",
       "      <th>Step</th>\n",
       "      <th>Training Loss</th>\n",
       "      <th>Validation Loss</th>\n",
       "      <th>/next-item/ndcg At 20</th>\n",
       "      <th>/next-item/ndcg At 40</th>\n",
       "      <th>/next-item/recall At 20</th>\n",
       "      <th>/next-item/recall At 40</th>\n",
       "      <th>/loss</th>\n",
       "    </tr>\n",
       "  </thead>\n",
       "  <tbody>\n",
       "    <tr>\n",
       "      <td>1000</td>\n",
       "      <td>8.318600</td>\n",
       "      <td>No log</td>\n",
       "      <td>0.266669</td>\n",
       "      <td>0.274666</td>\n",
       "      <td>0.365966</td>\n",
       "      <td>0.404976</td>\n",
       "      <td>8.841317</td>\n",
       "    </tr>\n",
       "    <tr>\n",
       "      <td>2000</td>\n",
       "      <td>7.840900</td>\n",
       "      <td>No log</td>\n",
       "      <td>0.270273</td>\n",
       "      <td>0.278678</td>\n",
       "      <td>0.368264</td>\n",
       "      <td>0.409200</td>\n",
       "      <td>8.916772</td>\n",
       "    </tr>\n",
       "  </tbody>\n",
       "</table><p>"
      ],
      "text/plain": [
       "<IPython.core.display.HTML object>"
      ]
     },
     "metadata": {},
     "output_type": "display_data"
    },
    {
     "data": {
      "text/html": [
       "\n",
       "    <div>\n",
       "      \n",
       "      <progress value='1920' max='1007' style='width:300px; height:20px; vertical-align: middle;'></progress>\n",
       "      [1007/1007 02:21]\n",
       "    </div>\n",
       "    "
      ],
      "text/plain": [
       "<IPython.core.display.HTML object>"
      ]
     },
     "metadata": {},
     "output_type": "display_data"
    },
    {
     "name": "stdout",
     "output_type": "stream",
     "text": [
      "********************\n",
      "Eval results for day 9 are:\t\n",
      "\n",
      "********************\n",
      "\n",
      " eval_/loss = 8.91677188873291\n",
      " eval_/next-item/ndcg_at_20 = 0.27027302980422974\n",
      " eval_/next-item/ndcg_at_40 = 0.27867764234542847\n",
      " eval_/next-item/recall_at_20 = 0.3682641088962555\n",
      " eval_/next-item/recall_at_40 = 0.409199595451355\n",
      " eval_runtime = 16.1206\n",
      " eval_samples_per_second = 1998.932\n",
      " eval_steps_per_second = 62.467\n",
      "********************\n",
      "Launch training for day 9 are:\n",
      "********************\n",
      "\n"
     ]
    },
    {
     "data": {
      "text/html": [
       "\n",
       "    <div>\n",
       "      \n",
       "      <progress value='2008' max='2008' style='width:300px; height:20px; vertical-align: middle;'></progress>\n",
       "      [2008/2008 04:12, Epoch 2/2]\n",
       "    </div>\n",
       "    <table border=\"1\" class=\"dataframe\">\n",
       "  <thead>\n",
       " <tr style=\"text-align: left;\">\n",
       "      <th>Step</th>\n",
       "      <th>Training Loss</th>\n",
       "      <th>Validation Loss</th>\n",
       "      <th>/next-item/ndcg At 20</th>\n",
       "      <th>/next-item/ndcg At 40</th>\n",
       "      <th>/next-item/recall At 20</th>\n",
       "      <th>/next-item/recall At 40</th>\n",
       "      <th>/loss</th>\n",
       "    </tr>\n",
       "  </thead>\n",
       "  <tbody>\n",
       "    <tr>\n",
       "      <td>1000</td>\n",
       "      <td>8.298200</td>\n",
       "      <td>No log</td>\n",
       "      <td>0.267237</td>\n",
       "      <td>0.274902</td>\n",
       "      <td>0.365944</td>\n",
       "      <td>0.403384</td>\n",
       "      <td>8.830061</td>\n",
       "    </tr>\n",
       "    <tr>\n",
       "      <td>2000</td>\n",
       "      <td>7.761300</td>\n",
       "      <td>No log</td>\n",
       "      <td>0.263771</td>\n",
       "      <td>0.271108</td>\n",
       "      <td>0.362484</td>\n",
       "      <td>0.398246</td>\n",
       "      <td>9.010286</td>\n",
       "    </tr>\n",
       "  </tbody>\n",
       "</table><p>"
      ],
      "text/plain": [
       "<IPython.core.display.HTML object>"
      ]
     },
     "metadata": {},
     "output_type": "display_data"
    },
    {
     "data": {
      "text/html": [
       "\n",
       "    <div>\n",
       "      \n",
       "      <progress value='1789' max='913' style='width:300px; height:20px; vertical-align: middle;'></progress>\n",
       "      [913/913 02:19]\n",
       "    </div>\n",
       "    "
      ],
      "text/plain": [
       "<IPython.core.display.HTML object>"
      ]
     },
     "metadata": {},
     "output_type": "display_data"
    },
    {
     "name": "stdout",
     "output_type": "stream",
     "text": [
      "********************\n",
      "Eval results for day 10 are:\t\n",
      "\n",
      "********************\n",
      "\n",
      " eval_/loss = 8.830060958862305\n",
      " eval_/next-item/ndcg_at_20 = 0.26723676919937134\n",
      " eval_/next-item/ndcg_at_40 = 0.274901807308197\n",
      " eval_/next-item/recall_at_20 = 0.36594387888908386\n",
      " eval_/next-item/recall_at_40 = 0.40338435769081116\n",
      " eval_runtime = 14.7947\n",
      " eval_samples_per_second = 1974.758\n",
      " eval_steps_per_second = 61.711\n",
      "********************\n",
      "Launch training for day 10 are:\n",
      "********************\n",
      "\n"
     ]
    },
    {
     "data": {
      "text/html": [
       "\n",
       "    <div>\n",
       "      \n",
       "      <progress value='1838' max='1838' style='width:300px; height:20px; vertical-align: middle;'></progress>\n",
       "      [1838/1838 03:37, Epoch 2/2]\n",
       "    </div>\n",
       "    <table border=\"1\" class=\"dataframe\">\n",
       "  <thead>\n",
       " <tr style=\"text-align: left;\">\n",
       "      <th>Step</th>\n",
       "      <th>Training Loss</th>\n",
       "      <th>Validation Loss</th>\n",
       "      <th>/next-item/ndcg At 20</th>\n",
       "      <th>/next-item/ndcg At 40</th>\n",
       "      <th>/next-item/recall At 20</th>\n",
       "      <th>/next-item/recall At 40</th>\n",
       "      <th>/loss</th>\n",
       "    </tr>\n",
       "  </thead>\n",
       "  <tbody>\n",
       "    <tr>\n",
       "      <td>1000</td>\n",
       "      <td>8.237700</td>\n",
       "      <td>No log</td>\n",
       "      <td>0.269352</td>\n",
       "      <td>0.277055</td>\n",
       "      <td>0.369367</td>\n",
       "      <td>0.406864</td>\n",
       "      <td>8.854197</td>\n",
       "    </tr>\n",
       "  </tbody>\n",
       "</table><p>"
      ],
      "text/plain": [
       "<IPython.core.display.HTML object>"
      ]
     },
     "metadata": {},
     "output_type": "display_data"
    },
    {
     "data": {
      "text/html": [
       "\n",
       "    <div>\n",
       "      \n",
       "      <progress value='1701' max='876' style='width:300px; height:20px; vertical-align: middle;'></progress>\n",
       "      [876/876 02:18]\n",
       "    </div>\n",
       "    "
      ],
      "text/plain": [
       "<IPython.core.display.HTML object>"
      ]
     },
     "metadata": {},
     "output_type": "display_data"
    },
    {
     "name": "stdout",
     "output_type": "stream",
     "text": [
      "********************\n",
      "Eval results for day 11 are:\t\n",
      "\n",
      "********************\n",
      "\n",
      " eval_/loss = 8.854196548461914\n",
      " eval_/next-item/ndcg_at_20 = 0.2693517208099365\n",
      " eval_/next-item/ndcg_at_40 = 0.2770548462867737\n",
      " eval_/next-item/recall_at_20 = 0.36936745047569275\n",
      " eval_/next-item/recall_at_40 = 0.40686431527137756\n",
      " eval_runtime = 13.9786\n",
      " eval_samples_per_second = 2005.35\n",
      " eval_steps_per_second = 62.667\n",
      "********************\n",
      "Launch training for day 11 are:\n",
      "********************\n",
      "\n"
     ]
    },
    {
     "data": {
      "text/html": [
       "\n",
       "    <div>\n",
       "      \n",
       "      <progress value='1762' max='1762' style='width:300px; height:20px; vertical-align: middle;'></progress>\n",
       "      [1762/1762 03:29, Epoch 2/2]\n",
       "    </div>\n",
       "    <table border=\"1\" class=\"dataframe\">\n",
       "  <thead>\n",
       " <tr style=\"text-align: left;\">\n",
       "      <th>Step</th>\n",
       "      <th>Training Loss</th>\n",
       "      <th>Validation Loss</th>\n",
       "      <th>/next-item/ndcg At 20</th>\n",
       "      <th>/next-item/ndcg At 40</th>\n",
       "      <th>/next-item/recall At 20</th>\n",
       "      <th>/next-item/recall At 40</th>\n",
       "      <th>/loss</th>\n",
       "    </tr>\n",
       "  </thead>\n",
       "  <tbody>\n",
       "    <tr>\n",
       "      <td>1000</td>\n",
       "      <td>8.221300</td>\n",
       "      <td>No log</td>\n",
       "      <td>0.261950</td>\n",
       "      <td>0.269578</td>\n",
       "      <td>0.363171</td>\n",
       "      <td>0.400462</td>\n",
       "      <td>8.909984</td>\n",
       "    </tr>\n",
       "  </tbody>\n",
       "</table><p>"
      ],
      "text/plain": [
       "<IPython.core.display.HTML object>"
      ]
     },
     "metadata": {},
     "output_type": "display_data"
    },
    {
     "data": {
      "text/html": [
       "\n",
       "    <div>\n",
       "      \n",
       "      <progress value='1627' max='825' style='width:300px; height:20px; vertical-align: middle;'></progress>\n",
       "      [825/825 02:18]\n",
       "    </div>\n",
       "    "
      ],
      "text/plain": [
       "<IPython.core.display.HTML object>"
      ]
     },
     "metadata": {},
     "output_type": "display_data"
    },
    {
     "name": "stdout",
     "output_type": "stream",
     "text": [
      "********************\n",
      "Eval results for day 12 are:\t\n",
      "\n",
      "********************\n",
      "\n",
      " eval_/loss = 8.90998363494873\n",
      " eval_/next-item/ndcg_at_20 = 0.2619495987892151\n",
      " eval_/next-item/ndcg_at_40 = 0.26957783102989197\n",
      " eval_/next-item/recall_at_20 = 0.3631712794303894\n",
      " eval_/next-item/recall_at_40 = 0.4004623591899872\n",
      " eval_runtime = 13.3966\n",
      " eval_samples_per_second = 1970.642\n",
      " eval_steps_per_second = 61.583\n",
      "********************\n",
      "Launch training for day 12 are:\n",
      "********************\n",
      "\n"
     ]
    },
    {
     "data": {
      "text/html": [
       "\n",
       "    <div>\n",
       "      \n",
       "      <progress value='1664' max='1664' style='width:300px; height:20px; vertical-align: middle;'></progress>\n",
       "      [1664/1664 03:19, Epoch 2/2]\n",
       "    </div>\n",
       "    <table border=\"1\" class=\"dataframe\">\n",
       "  <thead>\n",
       " <tr style=\"text-align: left;\">\n",
       "      <th>Step</th>\n",
       "      <th>Training Loss</th>\n",
       "      <th>Validation Loss</th>\n",
       "      <th>/next-item/ndcg At 20</th>\n",
       "      <th>/next-item/ndcg At 40</th>\n",
       "      <th>/next-item/recall At 20</th>\n",
       "      <th>/next-item/recall At 40</th>\n",
       "      <th>/loss</th>\n",
       "    </tr>\n",
       "  </thead>\n",
       "  <tbody>\n",
       "    <tr>\n",
       "      <td>1000</td>\n",
       "      <td>8.183300</td>\n",
       "      <td>No log</td>\n",
       "      <td>0.260474</td>\n",
       "      <td>0.268480</td>\n",
       "      <td>0.360953</td>\n",
       "      <td>0.400023</td>\n",
       "      <td>8.922544</td>\n",
       "    </tr>\n",
       "  </tbody>\n",
       "</table><p>"
      ],
      "text/plain": [
       "<IPython.core.display.HTML object>"
      ]
     },
     "metadata": {},
     "output_type": "display_data"
    },
    {
     "data": {
      "text/html": [
       "\n",
       "    <div>\n",
       "      \n",
       "      <progress value='1573' max='802' style='width:300px; height:20px; vertical-align: middle;'></progress>\n",
       "      [802/802 02:17]\n",
       "    </div>\n",
       "    "
      ],
      "text/plain": [
       "<IPython.core.display.HTML object>"
      ]
     },
     "metadata": {},
     "output_type": "display_data"
    },
    {
     "name": "stdout",
     "output_type": "stream",
     "text": [
      "********************\n",
      "Eval results for day 13 are:\t\n",
      "\n",
      "********************\n",
      "\n",
      " eval_/loss = 8.9225435256958\n",
      " eval_/next-item/ndcg_at_20 = 0.26047417521476746\n",
      " eval_/next-item/ndcg_at_40 = 0.26848024129867554\n",
      " eval_/next-item/recall_at_20 = 0.3609529733657837\n",
      " eval_/next-item/recall_at_40 = 0.4000234007835388\n",
      " eval_runtime = 12.9861\n",
      " eval_samples_per_second = 1976.268\n",
      " eval_steps_per_second = 61.758\n",
      "********************\n",
      "Launch training for day 13 are:\n",
      "********************\n",
      "\n"
     ]
    },
    {
     "data": {
      "text/html": [
       "\n",
       "    <div>\n",
       "      \n",
       "      <progress value='1612' max='1612' style='width:300px; height:20px; vertical-align: middle;'></progress>\n",
       "      [1612/1612 03:13, Epoch 2/2]\n",
       "    </div>\n",
       "    <table border=\"1\" class=\"dataframe\">\n",
       "  <thead>\n",
       " <tr style=\"text-align: left;\">\n",
       "      <th>Step</th>\n",
       "      <th>Training Loss</th>\n",
       "      <th>Validation Loss</th>\n",
       "      <th>/next-item/ndcg At 20</th>\n",
       "      <th>/next-item/ndcg At 40</th>\n",
       "      <th>/next-item/recall At 20</th>\n",
       "      <th>/next-item/recall At 40</th>\n",
       "      <th>/loss</th>\n",
       "    </tr>\n",
       "  </thead>\n",
       "  <tbody>\n",
       "    <tr>\n",
       "      <td>1000</td>\n",
       "      <td>8.180500</td>\n",
       "      <td>No log</td>\n",
       "      <td>0.259127</td>\n",
       "      <td>0.266346</td>\n",
       "      <td>0.360487</td>\n",
       "      <td>0.395659</td>\n",
       "      <td>8.994001</td>\n",
       "    </tr>\n",
       "  </tbody>\n",
       "</table><p>"
      ],
      "text/plain": [
       "<IPython.core.display.HTML object>"
      ]
     },
     "metadata": {},
     "output_type": "display_data"
    },
    {
     "data": {
      "text/html": [
       "\n",
       "    <div>\n",
       "      \n",
       "      <progress value='1492' max='771' style='width:300px; height:20px; vertical-align: middle;'></progress>\n",
       "      [771/771 02:18]\n",
       "    </div>\n",
       "    "
      ],
      "text/plain": [
       "<IPython.core.display.HTML object>"
      ]
     },
     "metadata": {},
     "output_type": "display_data"
    },
    {
     "name": "stdout",
     "output_type": "stream",
     "text": [
      "********************\n",
      "Eval results for day 14 are:\t\n",
      "\n",
      "********************\n",
      "\n",
      " eval_/loss = 8.994001388549805\n",
      " eval_/next-item/ndcg_at_20 = 0.2591266632080078\n",
      " eval_/next-item/ndcg_at_40 = 0.2663463056087494\n",
      " eval_/next-item/recall_at_20 = 0.36048683524131775\n",
      " eval_/next-item/recall_at_40 = 0.3956592381000519\n",
      " eval_runtime = 12.566\n",
      " eval_samples_per_second = 1963.389\n",
      " eval_steps_per_second = 61.356\n",
      "********************\n",
      "Launch training for day 14 are:\n",
      "********************\n",
      "\n"
     ]
    },
    {
     "data": {
      "text/html": [
       "\n",
       "    <div>\n",
       "      \n",
       "      <progress value='1536' max='1536' style='width:300px; height:20px; vertical-align: middle;'></progress>\n",
       "      [1536/1536 03:06, Epoch 2/2]\n",
       "    </div>\n",
       "    <table border=\"1\" class=\"dataframe\">\n",
       "  <thead>\n",
       " <tr style=\"text-align: left;\">\n",
       "      <th>Step</th>\n",
       "      <th>Training Loss</th>\n",
       "      <th>Validation Loss</th>\n",
       "      <th>/next-item/ndcg At 20</th>\n",
       "      <th>/next-item/ndcg At 40</th>\n",
       "      <th>/next-item/recall At 20</th>\n",
       "      <th>/next-item/recall At 40</th>\n",
       "      <th>/loss</th>\n",
       "    </tr>\n",
       "  </thead>\n",
       "  <tbody>\n",
       "    <tr>\n",
       "      <td>1000</td>\n",
       "      <td>8.170800</td>\n",
       "      <td>No log</td>\n",
       "      <td>0.258443</td>\n",
       "      <td>0.266308</td>\n",
       "      <td>0.354683</td>\n",
       "      <td>0.393148</td>\n",
       "      <td>9.026046</td>\n",
       "    </tr>\n",
       "  </tbody>\n",
       "</table><p>"
      ],
      "text/plain": [
       "<IPython.core.display.HTML object>"
      ]
     },
     "metadata": {},
     "output_type": "display_data"
    },
    {
     "data": {
      "text/html": [
       "\n",
       "    <div>\n",
       "      \n",
       "      <progress value='1383' max='721' style='width:300px; height:20px; vertical-align: middle;'></progress>\n",
       "      [721/721 02:15]\n",
       "    </div>\n",
       "    "
      ],
      "text/plain": [
       "<IPython.core.display.HTML object>"
      ]
     },
     "metadata": {},
     "output_type": "display_data"
    },
    {
     "name": "stdout",
     "output_type": "stream",
     "text": [
      "********************\n",
      "Eval results for day 15 are:\t\n",
      "\n",
      "********************\n",
      "\n",
      " eval_/loss = 9.026045799255371\n",
      " eval_/next-item/ndcg_at_20 = 0.25844332575798035\n",
      " eval_/next-item/ndcg_at_40 = 0.26630765199661255\n",
      " eval_/next-item/recall_at_20 = 0.35468342900276184\n",
      " eval_/next-item/recall_at_40 = 0.3931483030319214\n",
      " eval_runtime = 11.8308\n",
      " eval_samples_per_second = 1950.171\n",
      " eval_steps_per_second = 60.943\n",
      "********************\n",
      "Launch training for day 15 are:\n",
      "********************\n",
      "\n"
     ]
    },
    {
     "data": {
      "text/html": [
       "\n",
       "    <div>\n",
       "      \n",
       "      <progress value='1444' max='1444' style='width:300px; height:20px; vertical-align: middle;'></progress>\n",
       "      [1444/1444 02:54, Epoch 2/2]\n",
       "    </div>\n",
       "    <table border=\"1\" class=\"dataframe\">\n",
       "  <thead>\n",
       " <tr style=\"text-align: left;\">\n",
       "      <th>Step</th>\n",
       "      <th>Training Loss</th>\n",
       "      <th>Validation Loss</th>\n",
       "      <th>/next-item/ndcg At 20</th>\n",
       "      <th>/next-item/ndcg At 40</th>\n",
       "      <th>/next-item/recall At 20</th>\n",
       "      <th>/next-item/recall At 40</th>\n",
       "      <th>/loss</th>\n",
       "    </tr>\n",
       "  </thead>\n",
       "  <tbody>\n",
       "    <tr>\n",
       "      <td>1000</td>\n",
       "      <td>8.156300</td>\n",
       "      <td>No log</td>\n",
       "      <td>0.253601</td>\n",
       "      <td>0.261723</td>\n",
       "      <td>0.352463</td>\n",
       "      <td>0.392093</td>\n",
       "      <td>9.088995</td>\n",
       "    </tr>\n",
       "  </tbody>\n",
       "</table><p>"
      ],
      "text/plain": [
       "<IPython.core.display.HTML object>"
      ]
     },
     "metadata": {},
     "output_type": "display_data"
    },
    {
     "data": {
      "text/html": [
       "\n",
       "    <div>\n",
       "      \n",
       "      <progress value='1255' max='662' style='width:300px; height:20px; vertical-align: middle;'></progress>\n",
       "      [662/662 02:14]\n",
       "    </div>\n",
       "    "
      ],
      "text/plain": [
       "<IPython.core.display.HTML object>"
      ]
     },
     "metadata": {},
     "output_type": "display_data"
    },
    {
     "name": "stdout",
     "output_type": "stream",
     "text": [
      "********************\n",
      "Eval results for day 16 are:\t\n",
      "\n",
      "********************\n",
      "\n",
      " eval_/loss = 9.088994979858398\n",
      " eval_/next-item/ndcg_at_20 = 0.25360071659088135\n",
      " eval_/next-item/ndcg_at_40 = 0.26172298192977905\n",
      " eval_/next-item/recall_at_20 = 0.3524632751941681\n",
      " eval_/next-item/recall_at_40 = 0.3920929729938507\n",
      " eval_runtime = 10.6317\n",
      " eval_samples_per_second = 1992.534\n",
      " eval_steps_per_second = 62.267\n",
      "********************\n",
      "Launch training for day 16 are:\n",
      "********************\n",
      "\n"
     ]
    },
    {
     "data": {
      "text/html": [
       "\n",
       "    <div>\n",
       "      \n",
       "      <progress value='1320' max='1320' style='width:300px; height:20px; vertical-align: middle;'></progress>\n",
       "      [1320/1320 02:40, Epoch 2/2]\n",
       "    </div>\n",
       "    <table border=\"1\" class=\"dataframe\">\n",
       "  <thead>\n",
       " <tr style=\"text-align: left;\">\n",
       "      <th>Step</th>\n",
       "      <th>Training Loss</th>\n",
       "      <th>Validation Loss</th>\n",
       "      <th>/next-item/ndcg At 20</th>\n",
       "      <th>/next-item/ndcg At 40</th>\n",
       "      <th>/next-item/recall At 20</th>\n",
       "      <th>/next-item/recall At 40</th>\n",
       "      <th>/loss</th>\n",
       "    </tr>\n",
       "  </thead>\n",
       "  <tbody>\n",
       "    <tr>\n",
       "      <td>1000</td>\n",
       "      <td>8.133500</td>\n",
       "      <td>No log</td>\n",
       "      <td>0.259377</td>\n",
       "      <td>0.267463</td>\n",
       "      <td>0.357422</td>\n",
       "      <td>0.396772</td>\n",
       "      <td>9.050840</td>\n",
       "    </tr>\n",
       "  </tbody>\n",
       "</table><p>"
      ],
      "text/plain": [
       "<IPython.core.display.HTML object>"
      ]
     },
     "metadata": {},
     "output_type": "display_data"
    },
    {
     "data": {
      "text/html": [
       "\n",
       "    <div>\n",
       "      \n",
       "      <progress value='1143' max='593' style='width:300px; height:20px; vertical-align: middle;'></progress>\n",
       "      [593/593 02:12]\n",
       "    </div>\n",
       "    "
      ],
      "text/plain": [
       "<IPython.core.display.HTML object>"
      ]
     },
     "metadata": {},
     "output_type": "display_data"
    },
    {
     "name": "stdout",
     "output_type": "stream",
     "text": [
      "********************\n",
      "Eval results for day 17 are:\t\n",
      "\n",
      "********************\n",
      "\n",
      " eval_/loss = 9.050840377807617\n",
      " eval_/next-item/ndcg_at_20 = 0.2593768537044525\n",
      " eval_/next-item/ndcg_at_40 = 0.26746299862861633\n",
      " eval_/next-item/recall_at_20 = 0.3574216663837433\n",
      " eval_/next-item/recall_at_40 = 0.39677178859710693\n",
      " eval_runtime = 9.6875\n",
      " eval_samples_per_second = 1958.814\n",
      " eval_steps_per_second = 61.213\n",
      "********************\n",
      "Launch training for day 17 are:\n",
      "********************\n",
      "\n"
     ]
    },
    {
     "data": {
      "text/html": [
       "\n",
       "    <div>\n",
       "      \n",
       "      <progress value='1196' max='1196' style='width:300px; height:20px; vertical-align: middle;'></progress>\n",
       "      [1196/1196 02:26, Epoch 2/2]\n",
       "    </div>\n",
       "    <table border=\"1\" class=\"dataframe\">\n",
       "  <thead>\n",
       " <tr style=\"text-align: left;\">\n",
       "      <th>Step</th>\n",
       "      <th>Training Loss</th>\n",
       "      <th>Validation Loss</th>\n",
       "      <th>/next-item/ndcg At 20</th>\n",
       "      <th>/next-item/ndcg At 40</th>\n",
       "      <th>/next-item/recall At 20</th>\n",
       "      <th>/next-item/recall At 40</th>\n",
       "      <th>/loss</th>\n",
       "    </tr>\n",
       "  </thead>\n",
       "  <tbody>\n",
       "    <tr>\n",
       "      <td>1000</td>\n",
       "      <td>8.093100</td>\n",
       "      <td>No log</td>\n",
       "      <td>0.261638</td>\n",
       "      <td>0.269152</td>\n",
       "      <td>0.358459</td>\n",
       "      <td>0.395096</td>\n",
       "      <td>9.014151</td>\n",
       "    </tr>\n",
       "  </tbody>\n",
       "</table><p>"
      ],
      "text/plain": [
       "<IPython.core.display.HTML object>"
      ]
     },
     "metadata": {},
     "output_type": "display_data"
    },
    {
     "data": {
      "text/html": [
       "\n",
       "    <div>\n",
       "      \n",
       "      <progress value='1083' max='550' style='width:300px; height:20px; vertical-align: middle;'></progress>\n",
       "      [550/550 02:12]\n",
       "    </div>\n",
       "    "
      ],
      "text/plain": [
       "<IPython.core.display.HTML object>"
      ]
     },
     "metadata": {},
     "output_type": "display_data"
    },
    {
     "name": "stdout",
     "output_type": "stream",
     "text": [
      "********************\n",
      "Eval results for day 18 are:\t\n",
      "\n",
      "********************\n",
      "\n",
      " eval_/loss = 9.014150619506836\n",
      " eval_/next-item/ndcg_at_20 = 0.26163795590400696\n",
      " eval_/next-item/ndcg_at_40 = 0.26915207505226135\n",
      " eval_/next-item/recall_at_20 = 0.3584594428539276\n",
      " eval_/next-item/recall_at_40 = 0.39509615302085876\n",
      " eval_runtime = 9.0855\n",
      " eval_samples_per_second = 1937.153\n",
      " eval_steps_per_second = 60.536\n",
      "********************\n",
      "Launch training for day 18 are:\n",
      "********************\n",
      "\n"
     ]
    },
    {
     "data": {
      "text/html": [
       "\n",
       "    <div>\n",
       "      \n",
       "      <progress value='1102' max='1102' style='width:300px; height:20px; vertical-align: middle;'></progress>\n",
       "      [1102/1102 02:16, Epoch 2/2]\n",
       "    </div>\n",
       "    <table border=\"1\" class=\"dataframe\">\n",
       "  <thead>\n",
       " <tr style=\"text-align: left;\">\n",
       "      <th>Step</th>\n",
       "      <th>Training Loss</th>\n",
       "      <th>Validation Loss</th>\n",
       "      <th>/next-item/ndcg At 20</th>\n",
       "      <th>/next-item/ndcg At 40</th>\n",
       "      <th>/next-item/recall At 20</th>\n",
       "      <th>/next-item/recall At 40</th>\n",
       "      <th>/loss</th>\n",
       "    </tr>\n",
       "  </thead>\n",
       "  <tbody>\n",
       "    <tr>\n",
       "      <td>1000</td>\n",
       "      <td>8.048400</td>\n",
       "      <td>No log</td>\n",
       "      <td>0.253690</td>\n",
       "      <td>0.261359</td>\n",
       "      <td>0.351854</td>\n",
       "      <td>0.389345</td>\n",
       "      <td>9.012637</td>\n",
       "    </tr>\n",
       "  </tbody>\n",
       "</table><p>"
      ],
      "text/plain": [
       "<IPython.core.display.HTML object>"
      ]
     },
     "metadata": {},
     "output_type": "display_data"
    },
    {
     "data": {
      "text/html": [
       "\n",
       "    <div>\n",
       "      \n",
       "      <progress value='1030' max='533' style='width:300px; height:20px; vertical-align: middle;'></progress>\n",
       "      [533/533 02:11]\n",
       "    </div>\n",
       "    "
      ],
      "text/plain": [
       "<IPython.core.display.HTML object>"
      ]
     },
     "metadata": {},
     "output_type": "display_data"
    },
    {
     "name": "stdout",
     "output_type": "stream",
     "text": [
      "********************\n",
      "Eval results for day 19 are:\t\n",
      "\n",
      "********************\n",
      "\n",
      " eval_/loss = 9.0126371383667\n",
      " eval_/next-item/ndcg_at_20 = 0.25369036197662354\n",
      " eval_/next-item/ndcg_at_40 = 0.2613586485385895\n",
      " eval_/next-item/recall_at_20 = 0.35185402631759644\n",
      " eval_/next-item/recall_at_40 = 0.3893452286720276\n",
      " eval_runtime = 8.515\n",
      " eval_samples_per_second = 2003.061\n",
      " eval_steps_per_second = 62.596\n",
      "********************\n",
      "Launch training for day 19 are:\n",
      "********************\n",
      "\n"
     ]
    },
    {
     "data": {
      "text/html": [
       "\n",
       "    <div>\n",
       "      \n",
       "      <progress value='1062' max='1062' style='width:300px; height:20px; vertical-align: middle;'></progress>\n",
       "      [1062/1062 02:11, Epoch 2/2]\n",
       "    </div>\n",
       "    <table border=\"1\" class=\"dataframe\">\n",
       "  <thead>\n",
       " <tr style=\"text-align: left;\">\n",
       "      <th>Step</th>\n",
       "      <th>Training Loss</th>\n",
       "      <th>Validation Loss</th>\n",
       "      <th>/next-item/ndcg At 20</th>\n",
       "      <th>/next-item/ndcg At 40</th>\n",
       "      <th>/next-item/recall At 20</th>\n",
       "      <th>/next-item/recall At 40</th>\n",
       "      <th>/loss</th>\n",
       "    </tr>\n",
       "  </thead>\n",
       "  <tbody>\n",
       "    <tr>\n",
       "      <td>1000</td>\n",
       "      <td>8.068700</td>\n",
       "      <td>No log</td>\n",
       "      <td>0.252694</td>\n",
       "      <td>0.259666</td>\n",
       "      <td>0.347782</td>\n",
       "      <td>0.382007</td>\n",
       "      <td>9.057227</td>\n",
       "    </tr>\n",
       "  </tbody>\n",
       "</table><p>"
      ],
      "text/plain": [
       "<IPython.core.display.HTML object>"
      ]
     },
     "metadata": {},
     "output_type": "display_data"
    },
    {
     "data": {
      "text/html": [
       "\n",
       "    <div>\n",
       "      \n",
       "      <progress value='2760' max='497' style='width:300px; height:20px; vertical-align: middle;'></progress>\n",
       "      [497/497 10:57]\n",
       "    </div>\n",
       "    "
      ],
      "text/plain": [
       "<IPython.core.display.HTML object>"
      ]
     },
     "metadata": {},
     "output_type": "display_data"
    },
    {
     "name": "stdout",
     "output_type": "stream",
     "text": [
      "********************\n",
      "Eval results for day 20 are:\t\n",
      "\n",
      "********************\n",
      "\n",
      " eval_/loss = 9.05722713470459\n",
      " eval_/next-item/ndcg_at_20 = 0.25269395112991333\n",
      " eval_/next-item/ndcg_at_40 = 0.25966569781303406\n",
      " eval_/next-item/recall_at_20 = 0.34778231382369995\n",
      " eval_/next-item/recall_at_40 = 0.3820069134235382\n",
      " eval_runtime = 8.1317\n",
      " eval_samples_per_second = 1955.796\n",
      " eval_steps_per_second = 61.119\n",
      "********************\n",
      "Launch training for day 20 are:\n",
      "********************\n",
      "\n"
     ]
    },
    {
     "data": {
      "text/html": [
       "\n",
       "    <div>\n",
       "      \n",
       "      <progress value='990' max='990' style='width:300px; height:20px; vertical-align: middle;'></progress>\n",
       "      [990/990 01:53, Epoch 2/2]\n",
       "    </div>\n",
       "    <table border=\"1\" class=\"dataframe\">\n",
       "  <thead>\n",
       " <tr style=\"text-align: left;\">\n",
       "      <th>Step</th>\n",
       "      <th>Training Loss</th>\n",
       "      <th>Validation Loss</th>\n",
       "    </tr>\n",
       "  </thead>\n",
       "  <tbody>\n",
       "  </tbody>\n",
       "</table><p>"
      ],
      "text/plain": [
       "<IPython.core.display.HTML object>"
      ]
     },
     "metadata": {},
     "output_type": "display_data"
    },
    {
     "name": "stdout",
     "output_type": "stream",
     "text": [
      "********************\n",
      "Eval results for day 21 are:\t\n",
      "\n",
      "********************\n",
      "\n",
      " eval_/loss = 9.01651382446289\n",
      " eval_/next-item/ndcg_at_20 = 0.2561180293560028\n",
      " eval_/next-item/ndcg_at_40 = 0.2635999023914337\n",
      " eval_/next-item/recall_at_20 = 0.35432520508766174\n",
      " eval_/next-item/recall_at_40 = 0.39090973138809204\n",
      " eval_runtime = 7.5782\n",
      " eval_samples_per_second = 1891.74\n",
      " eval_steps_per_second = 59.117\n",
      "********************\n",
      "Launch training for day 21 are:\n",
      "********************\n",
      "\n"
     ]
    },
    {
     "data": {
      "text/html": [
       "\n",
       "    <div>\n",
       "      \n",
       "      <progress value='904' max='904' style='width:300px; height:20px; vertical-align: middle;'></progress>\n",
       "      [904/904 01:46, Epoch 2/2]\n",
       "    </div>\n",
       "    <table border=\"1\" class=\"dataframe\">\n",
       "  <thead>\n",
       " <tr style=\"text-align: left;\">\n",
       "      <th>Step</th>\n",
       "      <th>Training Loss</th>\n",
       "      <th>Validation Loss</th>\n",
       "    </tr>\n",
       "  </thead>\n",
       "  <tbody>\n",
       "  </tbody>\n",
       "</table><p>"
      ],
      "text/plain": [
       "<IPython.core.display.HTML object>"
      ]
     },
     "metadata": {},
     "output_type": "display_data"
    },
    {
     "name": "stdout",
     "output_type": "stream",
     "text": [
      "********************\n",
      "Eval results for day 22 are:\t\n",
      "\n",
      "********************\n",
      "\n",
      " eval_/loss = 9.094014167785645\n",
      " eval_/next-item/ndcg_at_20 = 0.24823817610740662\n",
      " eval_/next-item/ndcg_at_40 = 0.25586578249931335\n",
      " eval_/next-item/recall_at_20 = 0.343104749917984\n",
      " eval_/next-item/recall_at_40 = 0.3804069459438324\n",
      " eval_runtime = 6.99\n",
      " eval_samples_per_second = 1899.863\n",
      " eval_steps_per_second = 59.371\n",
      "********************\n",
      "Launch training for day 22 are:\n",
      "********************\n",
      "\n"
     ]
    },
    {
     "data": {
      "text/html": [
       "\n",
       "    <div>\n",
       "      \n",
       "      <progress value='832' max='832' style='width:300px; height:20px; vertical-align: middle;'></progress>\n",
       "      [832/832 01:36, Epoch 2/2]\n",
       "    </div>\n",
       "    <table border=\"1\" class=\"dataframe\">\n",
       "  <thead>\n",
       " <tr style=\"text-align: left;\">\n",
       "      <th>Step</th>\n",
       "      <th>Training Loss</th>\n",
       "      <th>Validation Loss</th>\n",
       "    </tr>\n",
       "  </thead>\n",
       "  <tbody>\n",
       "  </tbody>\n",
       "</table><p>"
      ],
      "text/plain": [
       "<IPython.core.display.HTML object>"
      ]
     },
     "metadata": {},
     "output_type": "display_data"
    },
    {
     "name": "stdout",
     "output_type": "stream",
     "text": [
      "********************\n",
      "Eval results for day 23 are:\t\n",
      "\n",
      "********************\n",
      "\n",
      " eval_/loss = 9.0787353515625\n",
      " eval_/next-item/ndcg_at_20 = 0.24926139414310455\n",
      " eval_/next-item/ndcg_at_40 = 0.2571515440940857\n",
      " eval_/next-item/recall_at_20 = 0.3466484844684601\n",
      " eval_/next-item/recall_at_40 = 0.38514605164527893\n",
      " eval_runtime = 6.2986\n",
      " eval_samples_per_second = 1864.538\n",
      " eval_steps_per_second = 58.267\n",
      "********************\n",
      "Launch training for day 23 are:\n",
      "********************\n",
      "\n"
     ]
    },
    {
     "data": {
      "text/html": [
       "\n",
       "    <div>\n",
       "      \n",
       "      <progress value='740' max='740' style='width:300px; height:20px; vertical-align: middle;'></progress>\n",
       "      [740/740 01:25, Epoch 2/2]\n",
       "    </div>\n",
       "    <table border=\"1\" class=\"dataframe\">\n",
       "  <thead>\n",
       " <tr style=\"text-align: left;\">\n",
       "      <th>Step</th>\n",
       "      <th>Training Loss</th>\n",
       "      <th>Validation Loss</th>\n",
       "    </tr>\n",
       "  </thead>\n",
       "  <tbody>\n",
       "  </tbody>\n",
       "</table><p>"
      ],
      "text/plain": [
       "<IPython.core.display.HTML object>"
      ]
     },
     "metadata": {},
     "output_type": "display_data"
    },
    {
     "name": "stdout",
     "output_type": "stream",
     "text": [
      "********************\n",
      "Eval results for day 24 are:\t\n",
      "\n",
      "********************\n",
      "\n",
      " eval_/loss = 9.202404022216797\n",
      " eval_/next-item/ndcg_at_20 = 0.2490503042936325\n",
      " eval_/next-item/ndcg_at_40 = 0.2567943036556244\n",
      " eval_/next-item/recall_at_20 = 0.34278714656829834\n",
      " eval_/next-item/recall_at_40 = 0.38085368275642395\n",
      " eval_runtime = 5.657\n",
      " eval_samples_per_second = 1878.043\n",
      " eval_steps_per_second = 58.689\n",
      "********************\n",
      "Launch training for day 24 are:\n",
      "********************\n",
      "\n"
     ]
    },
    {
     "data": {
      "text/html": [
       "\n",
       "    <div>\n",
       "      \n",
       "      <progress value='656' max='656' style='width:300px; height:20px; vertical-align: middle;'></progress>\n",
       "      [656/656 01:16, Epoch 2/2]\n",
       "    </div>\n",
       "    <table border=\"1\" class=\"dataframe\">\n",
       "  <thead>\n",
       " <tr style=\"text-align: left;\">\n",
       "      <th>Step</th>\n",
       "      <th>Training Loss</th>\n",
       "      <th>Validation Loss</th>\n",
       "    </tr>\n",
       "  </thead>\n",
       "  <tbody>\n",
       "  </tbody>\n",
       "</table><p>"
      ],
      "text/plain": [
       "<IPython.core.display.HTML object>"
      ]
     },
     "metadata": {},
     "output_type": "display_data"
    },
    {
     "name": "stdout",
     "output_type": "stream",
     "text": [
      "********************\n",
      "Eval results for day 25 are:\t\n",
      "\n",
      "********************\n",
      "\n",
      " eval_/loss = 9.054166793823242\n",
      " eval_/next-item/ndcg_at_20 = 0.2494548112154007\n",
      " eval_/next-item/ndcg_at_40 = 0.2574363946914673\n",
      " eval_/next-item/recall_at_20 = 0.344379186630249\n",
      " eval_/next-item/recall_at_40 = 0.38338926434516907\n",
      " eval_runtime = 5.1193\n",
      " eval_samples_per_second = 1862.772\n",
      " eval_steps_per_second = 58.212\n",
      "********************\n",
      "Launch training for day 25 are:\n",
      "********************\n",
      "\n"
     ]
    },
    {
     "data": {
      "text/html": [
       "\n",
       "    <div>\n",
       "      \n",
       "      <progress value='592' max='592' style='width:300px; height:20px; vertical-align: middle;'></progress>\n",
       "      [592/592 01:11, Epoch 2/2]\n",
       "    </div>\n",
       "    <table border=\"1\" class=\"dataframe\">\n",
       "  <thead>\n",
       " <tr style=\"text-align: left;\">\n",
       "      <th>Step</th>\n",
       "      <th>Training Loss</th>\n",
       "      <th>Validation Loss</th>\n",
       "    </tr>\n",
       "  </thead>\n",
       "  <tbody>\n",
       "  </tbody>\n",
       "</table><p>"
      ],
      "text/plain": [
       "<IPython.core.display.HTML object>"
      ]
     },
     "metadata": {},
     "output_type": "display_data"
    },
    {
     "name": "stdout",
     "output_type": "stream",
     "text": [
      "********************\n",
      "Eval results for day 26 are:\t\n",
      "\n",
      "********************\n",
      "\n",
      " eval_/loss = 9.20311450958252\n",
      " eval_/next-item/ndcg_at_20 = 0.2506013512611389\n",
      " eval_/next-item/ndcg_at_40 = 0.2575730085372925\n",
      " eval_/next-item/recall_at_20 = 0.34202125668525696\n",
      " eval_/next-item/recall_at_40 = 0.37619680166244507\n",
      " eval_runtime = 4.0525\n",
      " eval_samples_per_second = 1855.657\n",
      " eval_steps_per_second = 57.989\n",
      "********************\n",
      "Launch training for day 26 are:\n",
      "********************\n",
      "\n"
     ]
    },
    {
     "data": {
      "text/html": [
       "\n",
       "    <div>\n",
       "      \n",
       "      <progress value='474' max='474' style='width:300px; height:20px; vertical-align: middle;'></progress>\n",
       "      [474/474 00:57, Epoch 2/2]\n",
       "    </div>\n",
       "    <table border=\"1\" class=\"dataframe\">\n",
       "  <thead>\n",
       " <tr style=\"text-align: left;\">\n",
       "      <th>Step</th>\n",
       "      <th>Training Loss</th>\n",
       "      <th>Validation Loss</th>\n",
       "    </tr>\n",
       "  </thead>\n",
       "  <tbody>\n",
       "  </tbody>\n",
       "</table><p>"
      ],
      "text/plain": [
       "<IPython.core.display.HTML object>"
      ]
     },
     "metadata": {},
     "output_type": "display_data"
    },
    {
     "name": "stdout",
     "output_type": "stream",
     "text": [
      "********************\n",
      "Eval results for day 27 are:\t\n",
      "\n",
      "********************\n",
      "\n",
      " eval_/loss = 9.085286140441895\n",
      " eval_/next-item/ndcg_at_20 = 0.24572838842868805\n",
      " eval_/next-item/ndcg_at_40 = 0.25360390543937683\n",
      " eval_/next-item/recall_at_20 = 0.3383556604385376\n",
      " eval_/next-item/recall_at_40 = 0.377046138048172\n",
      " eval_runtime = 2.9258\n",
      " eval_samples_per_second = 1837.437\n",
      " eval_steps_per_second = 57.42\n"
     ]
    }
   ],
   "source": [
    "## %%time\n",
    "\n",
    "sessions_path = lb_in / 'sessions_by_day'\n",
    "start_window_index = 1\n",
    "end_window_index = 27\n",
    "\n",
    "for time_index in range(start_window_index, end_window_index):\n",
    "    time_index_train = time_index\n",
    "    time_index_eval = time_index + 1\n",
    "    \n",
    "    train_path = (sessions_path / f'{time_index_train}/train.parquet').as_posix()\n",
    "    eval_path = (sessions_path / f'{time_index_eval}/valid.parquet').as_posix()\n",
    "\n",
    "    print('*'*20)\n",
    "    print(\"Launch training for day %s are:\" %time_index)\n",
    "    print('*'*20 + '\\n')\n",
    "\n",
    "    trainer.train_dataset_or_path = train_path\n",
    "    trainer.eval_dataset_or_path = eval_path\n",
    "    \n",
    "    trainer.reset_lr_scheduler()\n",
    "    trainer.train()\n",
    "    trainer.state.global_step +=1\n",
    "    \n",
    "    train_metrics = trainer.evaluate(metric_key_prefix='eval')\n",
    "    print('*'*20)\n",
    "    print(\"Eval results for day %s are:\\t\" %time_index_eval)\n",
    "    print('\\n' + '*'*20 + '\\n')\n",
    "    for key in sorted(train_metrics.keys()):\n",
    "        print(\" %s = %s\" % (key, str(train_metrics[key]))) \n",
    "    wipe_memory()"
   ]
  },
  {
   "cell_type": "code",
   "execution_count": 8,
   "id": "e81d5b8d-72e2-4130-91cb-1d5df0eb5456",
   "metadata": {},
   "outputs": [],
   "source": [
    "trainer.save_model((lb_out / 't4r').as_posix())"
   ]
  }
 ],
 "metadata": {
  "kernelspec": {
   "display_name": "Python 3 (ipykernel)",
   "language": "python",
   "name": "python3"
  },
  "language_info": {
   "codemirror_mode": {
    "name": "ipython",
    "version": 3
   },
   "file_extension": ".py",
   "mimetype": "text/x-python",
   "name": "python",
   "nbconvert_exporter": "python",
   "pygments_lexer": "ipython3",
   "version": "3.10.12"
  }
 },
 "nbformat": 4,
 "nbformat_minor": 5
}
