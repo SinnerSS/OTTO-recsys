{
 "cells": [
  {
   "cell_type": "code",
   "execution_count": 1,
   "id": "5fc13ec6-532b-4347-933f-d2d6d97be69b",
   "metadata": {},
   "outputs": [],
   "source": [
    "import gc\n",
    "from pathlib import Path\n",
    "\n",
    "import cupy\n",
    "import cudf\n",
    "import cudf.core.buffer.spill_manager as sm"
   ]
  },
  {
   "cell_type": "code",
   "execution_count": 2,
   "id": "c536b561-53a6-462d-8844-da01a046ff0f",
   "metadata": {},
   "outputs": [],
   "source": [
    "cudf.set_option('spill', True)\n",
    "manager = sm.SpillManager(device_memory_limit=10737418240)\n",
    "sm.set_global_manager(manager)"
   ]
  },
  {
   "cell_type": "code",
   "execution_count": 3,
   "id": "62c61015-1424-427f-aba0-bf4feef8aa08",
   "metadata": {},
   "outputs": [],
   "source": [
    "data_path = Path.cwd() / 'data'"
   ]
  },
  {
   "cell_type": "markdown",
   "id": "090a5487-5533-4282-bf27-5707443f3df5",
   "metadata": {},
   "source": [
    "## LB"
   ]
  },
  {
   "cell_type": "code",
   "execution_count": 4,
   "id": "fb95f839-3272-43d7-8549-6a91d2ae6ab5",
   "metadata": {},
   "outputs": [],
   "source": [
    "lb_in = data_path / 'lb/processed_nvt'\n",
    "lb_out = data_path / 'lb/sessions_by_day'\n",
    "if not lb_out.is_dir():\n",
    "    lb_out.mkdir()"
   ]
  },
  {
   "cell_type": "code",
   "execution_count": 5,
   "id": "90d26463-75ba-450e-8d07-b3ca53065d15",
   "metadata": {},
   "outputs": [],
   "source": [
    "data = []\n",
    "for train_file in sorted(lb_in.glob('*.parquet')):\n",
    "    data.append(cudf.read_parquet(train_file.as_posix()))\n",
    "\n",
    "data = cudf.concat(data)"
   ]
  },
  {
   "cell_type": "code",
   "execution_count": 6,
   "id": "a01867cf-23d7-4947-bbc9-c5c671a039a6",
   "metadata": {},
   "outputs": [],
   "source": [
    "cupy.random.seed(1)\n",
    "val_size = 0.1\n",
    "test_size = 0.1\n",
    "n_splits = data['day_index'].unique().count()\n",
    "\n",
    "for i in range(1, n_splits + 1):\n",
    "    split = data.loc[data['day_index'] == i]\n",
    "\n",
    "    split_dir = lb_out / str(i)\n",
    "    split_dir.mkdir()\n",
    "    \n",
    "    random_values = cupy.random.rand(len(split))\n",
    "    train_size = 1 - val_size - test_size\n",
    "\n",
    "    train_set = split[random_values <= train_size]\n",
    "    train_set.to_parquet((split_dir / 'train.parquet').as_posix())\n",
    "\n",
    "\n",
    "    valid_set = split[\n",
    "        (random_values > train_size) & (random_values <= (train_size + val_size))\n",
    "    ]\n",
    "    valid_set.to_parquet((split_dir / 'valid.parquet').as_posix())\n",
    "\n",
    "    test_set = split[random_values > (1 - test_size)]\n",
    "    test_set.to_parquet((split_dir / 'test.parquet').as_posix())\n",
    "    \n",
    "    del train_set, valid_set, test_set\n",
    "    gc.collect()\n",
    "\n",
    "del data"
   ]
  }
 ],
 "metadata": {
  "kernelspec": {
   "display_name": "Python 3 (ipykernel)",
   "language": "python",
   "name": "python3"
  },
  "language_info": {
   "codemirror_mode": {
    "name": "ipython",
    "version": 3
   },
   "file_extension": ".py",
   "mimetype": "text/x-python",
   "name": "python",
   "nbconvert_exporter": "python",
   "pygments_lexer": "ipython3",
   "version": "3.10.12"
  }
 },
 "nbformat": 4,
 "nbformat_minor": 5
}
