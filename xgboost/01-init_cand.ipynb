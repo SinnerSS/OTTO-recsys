{
 "cells": [
  {
   "cell_type": "code",
   "execution_count": 1,
   "id": "b7bba01c",
   "metadata": {
    "lines_to_next_cell": 0
   },
   "outputs": [],
   "source": [
    "import cudf \n",
    "from pathlib import Path"
   ]
  },
  {
   "cell_type": "code",
   "execution_count": 2,
   "id": "730d7114",
   "metadata": {
    "lines_to_next_cell": 0
   },
   "outputs": [],
   "source": [
    "data_path = Path.cwd().parent / 'preprocess/data'\n",
    "temp_path = Path.cwd() / 'data'\n",
    "if not temp_path.is_dir():\n",
    "    temp_path.mkdir()"
   ]
  },
  {
   "cell_type": "markdown",
   "id": "db064959",
   "metadata": {
    "lines_to_next_cell": 0
   },
   "source": [
    "## LB"
   ]
  },
  {
   "cell_type": "code",
   "execution_count": 3,
   "id": "31d8904d",
   "metadata": {
    "lines_to_next_cell": 0
   },
   "outputs": [],
   "source": [
    "lb_in = data_path / 'cv'\n",
    "lb_out = temp_path / 'lb'\n",
    "if not lb_out.is_dir():\n",
    "    lb_out.mkdir()"
   ]
  },
  {
   "cell_type": "code",
   "execution_count": 4,
   "id": "b11c17d4",
   "metadata": {},
   "outputs": [],
   "source": [
    "data = cudf.read_parquet((lb_in / 'test_sessions.parquet').as_posix())\n",
    "data[['session', 'aid']] = data[['session', 'aid']].astype('int32')\n",
    "\n",
    "data = data.sort_values(\n",
    "    ['session', 'ts'], ascending=[True, False], ignore_index=True\n",
    ")\n",
    "\n",
    "data.drop(['ts', 'type'], axis=1, inplace=True)\n",
    "\n",
    "data.drop_duplicates(['session', 'aid'])\n",
    "data['n'] = data.groupby('session').cumcount()\n",
    "data = data.loc[data.n < 20].drop('n', axis=1)\n",
    "\n",
    "data['past'] = True\n",
    "data = data.rename(columns={'aid': 'candidate'})\n",
    "\n",
    "data.to_parquet((lb_out / 'cand.parquet').as_posix())"
   ]
  }
 ],
 "metadata": {
  "kernelspec": {
   "display_name": "Python 3 (ipykernel)",
   "language": "python",
   "name": "python3"
  },
  "language_info": {
   "codemirror_mode": {
    "name": "ipython",
    "version": 3
   },
   "file_extension": ".py",
   "mimetype": "text/x-python",
   "name": "python",
   "nbconvert_exporter": "python",
   "pygments_lexer": "ipython3",
   "version": "3.10.12"
  }
 },
 "nbformat": 4,
 "nbformat_minor": 5
}
