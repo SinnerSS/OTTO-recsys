{
 "cells": [
  {
   "cell_type": "code",
   "execution_count": 7,
   "id": "4623c00f-316f-4cf5-afbb-b6668da309e1",
   "metadata": {},
   "outputs": [],
   "source": [
    "from pathlib import Path\n",
    "\n",
    "import cudf\n",
    "import xgboost as xgb\n",
    "from sklearn.model_selection import GroupKFold"
   ]
  },
  {
   "cell_type": "code",
   "execution_count": 8,
   "id": "a68ba05c-b9aa-49ca-8fee-0e3d30398b75",
   "metadata": {},
   "outputs": [],
   "source": [
    "data_path = Path.cwd().parent / 'preprocess/data'\n",
    "temp_path = Path.cwd() / 'data'\n",
    "if not temp_path.is_dir():\n",
    "    temp_path.mkdir()"
   ]
  },
  {
   "cell_type": "markdown",
   "id": "e9763185-2539-4fbe-9e44-32ec98fa9920",
   "metadata": {},
   "source": [
    "## LB"
   ]
  },
  {
   "cell_type": "code",
   "execution_count": 9,
   "id": "b28b42cc-4b5b-49a8-bf97-a8b224cc3589",
   "metadata": {},
   "outputs": [],
   "source": [
    "lb_in = data_path / 'cv'\n",
    "lb_out = temp_path / 'lb'\n",
    "if not lb_out.is_dir():\n",
    "    lb_out.mkdir()"
   ]
  },
  {
   "cell_type": "code",
   "execution_count": 10,
   "id": "2de2c29f-536d-4bbf-bae5-860ce0940744",
   "metadata": {},
   "outputs": [],
   "source": [
    "label = cudf.read_parquet((lb_in / 'test_labels.parquet').as_posix())\n",
    "cand = cudf.read_parquet((lb_out / 'click_cand.parquet').as_posix())"
   ]
  },
  {
   "cell_type": "code",
   "execution_count": 11,
   "id": "427007c9-7681-4727-a9b2-52b1d30cd74c",
   "metadata": {},
   "outputs": [
    {
     "ename": "MemoryError",
     "evalue": "std::bad_alloc: out_of_memory: CUDA error at: /usr/local/include/rmm/mr/device/cuda_memory_resource.hpp:70: cudaErrorMemoryAllocation out of memory",
     "output_type": "error",
     "traceback": [
      "\u001b[0;31m---------------------------------------------------------------------------\u001b[0m",
      "\u001b[0;31mMemoryError\u001b[0m                               Traceback (most recent call last)",
      "Cell \u001b[0;32mIn[11], line 6\u001b[0m\n\u001b[1;32m      3\u001b[0m label[\u001b[38;5;124m'\u001b[39m\u001b[38;5;124mlabel\u001b[39m\u001b[38;5;124m'\u001b[39m] \u001b[38;5;241m=\u001b[39m \u001b[38;5;241m1\u001b[39m\n\u001b[1;32m      4\u001b[0m label \u001b[38;5;241m=\u001b[39m label\u001b[38;5;241m.\u001b[39mrename(columns\u001b[38;5;241m=\u001b[39m{\u001b[38;5;124m'\u001b[39m\u001b[38;5;124maid\u001b[39m\u001b[38;5;124m'\u001b[39m: \u001b[38;5;124m'\u001b[39m\u001b[38;5;124mcandidate\u001b[39m\u001b[38;5;124m'\u001b[39m})\n\u001b[0;32m----> 6\u001b[0m cand \u001b[38;5;241m=\u001b[39m \u001b[43mcand\u001b[49m\u001b[38;5;241;43m.\u001b[39;49m\u001b[43mmerge\u001b[49m\u001b[43m(\u001b[49m\u001b[43mlabel\u001b[49m\u001b[43m,\u001b[49m\u001b[43m \u001b[49m\u001b[43mon\u001b[49m\u001b[38;5;241;43m=\u001b[39;49m\u001b[43m[\u001b[49m\u001b[38;5;124;43m'\u001b[39;49m\u001b[38;5;124;43msession\u001b[39;49m\u001b[38;5;124;43m'\u001b[39;49m\u001b[43m,\u001b[49m\u001b[43m \u001b[49m\u001b[38;5;124;43m'\u001b[39;49m\u001b[38;5;124;43mcandidate\u001b[39;49m\u001b[38;5;124;43m'\u001b[39;49m\u001b[43m]\u001b[49m\u001b[43m,\u001b[49m\u001b[43m \u001b[49m\u001b[43mhow\u001b[49m\u001b[38;5;241;43m=\u001b[39;49m\u001b[38;5;124;43m'\u001b[39;49m\u001b[38;5;124;43mleft\u001b[39;49m\u001b[38;5;124;43m'\u001b[39;49m\u001b[43m)\u001b[49m\u001b[38;5;241m.\u001b[39mfillna(\u001b[38;5;241m0\u001b[39m)\n\u001b[1;32m      7\u001b[0m cand[\u001b[38;5;124m'\u001b[39m\u001b[38;5;124mpast\u001b[39m\u001b[38;5;124m'\u001b[39m] \u001b[38;5;241m=\u001b[39m cand\u001b[38;5;241m.\u001b[39mpast\u001b[38;5;241m.\u001b[39mastype(\u001b[38;5;28mint\u001b[39m)\n",
      "File \u001b[0;32m/usr/local/lib/python3.10/dist-packages/nvtx/nvtx.py:115\u001b[0m, in \u001b[0;36mannotate.__call__.<locals>.inner\u001b[0;34m(*args, **kwargs)\u001b[0m\n\u001b[1;32m    112\u001b[0m \u001b[38;5;129m@wraps\u001b[39m(func)\n\u001b[1;32m    113\u001b[0m \u001b[38;5;28;01mdef\u001b[39;00m \u001b[38;5;21minner\u001b[39m(\u001b[38;5;241m*\u001b[39margs, \u001b[38;5;241m*\u001b[39m\u001b[38;5;241m*\u001b[39mkwargs):\n\u001b[1;32m    114\u001b[0m     libnvtx_push_range(\u001b[38;5;28mself\u001b[39m\u001b[38;5;241m.\u001b[39mattributes, \u001b[38;5;28mself\u001b[39m\u001b[38;5;241m.\u001b[39mdomain\u001b[38;5;241m.\u001b[39mhandle)\n\u001b[0;32m--> 115\u001b[0m     result \u001b[38;5;241m=\u001b[39m \u001b[43mfunc\u001b[49m\u001b[43m(\u001b[49m\u001b[38;5;241;43m*\u001b[39;49m\u001b[43margs\u001b[49m\u001b[43m,\u001b[49m\u001b[43m \u001b[49m\u001b[38;5;241;43m*\u001b[39;49m\u001b[38;5;241;43m*\u001b[39;49m\u001b[43mkwargs\u001b[49m\u001b[43m)\u001b[49m\n\u001b[1;32m    116\u001b[0m     libnvtx_pop_range(\u001b[38;5;28mself\u001b[39m\u001b[38;5;241m.\u001b[39mdomain\u001b[38;5;241m.\u001b[39mhandle)\n\u001b[1;32m    117\u001b[0m     \u001b[38;5;28;01mreturn\u001b[39;00m result\n",
      "File \u001b[0;32m/usr/local/lib/python3.10/dist-packages/cudf/core/dataframe.py:4016\u001b[0m, in \u001b[0;36mDataFrame.merge\u001b[0;34m(self, right, on, left_on, right_on, left_index, right_index, how, sort, lsuffix, rsuffix, indicator, suffixes)\u001b[0m\n\u001b[1;32m   4001\u001b[0m \u001b[38;5;28;01melif\u001b[39;00m how \u001b[38;5;129;01min\u001b[39;00m {\u001b[38;5;124m\"\u001b[39m\u001b[38;5;124mleftsemi\u001b[39m\u001b[38;5;124m\"\u001b[39m, \u001b[38;5;124m\"\u001b[39m\u001b[38;5;124mleftanti\u001b[39m\u001b[38;5;124m\"\u001b[39m}:\n\u001b[1;32m   4002\u001b[0m     merge_cls \u001b[38;5;241m=\u001b[39m MergeSemi\n\u001b[1;32m   4004\u001b[0m \u001b[38;5;28;01mreturn\u001b[39;00m \u001b[43mmerge_cls\u001b[49m\u001b[43m(\u001b[49m\n\u001b[1;32m   4005\u001b[0m \u001b[43m    \u001b[49m\u001b[43mlhs\u001b[49m\u001b[43m,\u001b[49m\n\u001b[1;32m   4006\u001b[0m \u001b[43m    \u001b[49m\u001b[43mrhs\u001b[49m\u001b[43m,\u001b[49m\n\u001b[1;32m   4007\u001b[0m \u001b[43m    \u001b[49m\u001b[43mon\u001b[49m\u001b[38;5;241;43m=\u001b[39;49m\u001b[43mon\u001b[49m\u001b[43m,\u001b[49m\n\u001b[1;32m   4008\u001b[0m \u001b[43m    \u001b[49m\u001b[43mleft_on\u001b[49m\u001b[38;5;241;43m=\u001b[39;49m\u001b[43mleft_on\u001b[49m\u001b[43m,\u001b[49m\n\u001b[1;32m   4009\u001b[0m \u001b[43m    \u001b[49m\u001b[43mright_on\u001b[49m\u001b[38;5;241;43m=\u001b[39;49m\u001b[43mright_on\u001b[49m\u001b[43m,\u001b[49m\n\u001b[1;32m   4010\u001b[0m \u001b[43m    \u001b[49m\u001b[43mleft_index\u001b[49m\u001b[38;5;241;43m=\u001b[39;49m\u001b[43mleft_index\u001b[49m\u001b[43m,\u001b[49m\n\u001b[1;32m   4011\u001b[0m \u001b[43m    \u001b[49m\u001b[43mright_index\u001b[49m\u001b[38;5;241;43m=\u001b[39;49m\u001b[43mright_index\u001b[49m\u001b[43m,\u001b[49m\n\u001b[1;32m   4012\u001b[0m \u001b[43m    \u001b[49m\u001b[43mhow\u001b[49m\u001b[38;5;241;43m=\u001b[39;49m\u001b[43mhow\u001b[49m\u001b[43m,\u001b[49m\n\u001b[1;32m   4013\u001b[0m \u001b[43m    \u001b[49m\u001b[43msort\u001b[49m\u001b[38;5;241;43m=\u001b[39;49m\u001b[43msort\u001b[49m\u001b[43m,\u001b[49m\n\u001b[1;32m   4014\u001b[0m \u001b[43m    \u001b[49m\u001b[43mindicator\u001b[49m\u001b[38;5;241;43m=\u001b[39;49m\u001b[43mindicator\u001b[49m\u001b[43m,\u001b[49m\n\u001b[1;32m   4015\u001b[0m \u001b[43m    \u001b[49m\u001b[43msuffixes\u001b[49m\u001b[38;5;241;43m=\u001b[39;49m\u001b[43msuffixes\u001b[49m\u001b[43m,\u001b[49m\n\u001b[0;32m-> 4016\u001b[0m \u001b[43m\u001b[49m\u001b[43m)\u001b[49m\u001b[38;5;241;43m.\u001b[39;49m\u001b[43mperform_merge\u001b[49m\u001b[43m(\u001b[49m\u001b[43m)\u001b[49m\n",
      "File \u001b[0;32m/usr/local/lib/python3.10/dist-packages/cudf/core/join/join.py:198\u001b[0m, in \u001b[0;36mMerge.perform_merge\u001b[0;34m(self)\u001b[0m\n\u001b[1;32m    186\u001b[0m left_rows, right_rows \u001b[38;5;241m=\u001b[39m \u001b[38;5;28mself\u001b[39m\u001b[38;5;241m.\u001b[39m_joiner(\n\u001b[1;32m    187\u001b[0m     left_join_cols,\n\u001b[1;32m    188\u001b[0m     right_join_cols,\n\u001b[1;32m    189\u001b[0m     how\u001b[38;5;241m=\u001b[39m\u001b[38;5;28mself\u001b[39m\u001b[38;5;241m.\u001b[39mhow,\n\u001b[1;32m    190\u001b[0m )\n\u001b[1;32m    192\u001b[0m gather_kwargs \u001b[38;5;241m=\u001b[39m {\n\u001b[1;32m    193\u001b[0m     \u001b[38;5;124m\"\u001b[39m\u001b[38;5;124mnullify\u001b[39m\u001b[38;5;124m\"\u001b[39m: \u001b[38;5;28;01mTrue\u001b[39;00m,\n\u001b[1;32m    194\u001b[0m     \u001b[38;5;124m\"\u001b[39m\u001b[38;5;124mcheck_bounds\u001b[39m\u001b[38;5;124m\"\u001b[39m: \u001b[38;5;28;01mFalse\u001b[39;00m,\n\u001b[1;32m    195\u001b[0m     \u001b[38;5;124m\"\u001b[39m\u001b[38;5;124mkeep_index\u001b[39m\u001b[38;5;124m\"\u001b[39m: \u001b[38;5;28mself\u001b[39m\u001b[38;5;241m.\u001b[39m_using_left_index \u001b[38;5;129;01mor\u001b[39;00m \u001b[38;5;28mself\u001b[39m\u001b[38;5;241m.\u001b[39m_using_right_index,\n\u001b[1;32m    196\u001b[0m }\n\u001b[1;32m    197\u001b[0m left_result \u001b[38;5;241m=\u001b[39m (\n\u001b[0;32m--> 198\u001b[0m     \u001b[38;5;28;43mself\u001b[39;49m\u001b[38;5;241;43m.\u001b[39;49m\u001b[43mlhs\u001b[49m\u001b[38;5;241;43m.\u001b[39;49m\u001b[43m_gather\u001b[49m\u001b[43m(\u001b[49m\u001b[43mgather_map\u001b[49m\u001b[38;5;241;43m=\u001b[39;49m\u001b[43mleft_rows\u001b[49m\u001b[43m,\u001b[49m\u001b[43m \u001b[49m\u001b[38;5;241;43m*\u001b[39;49m\u001b[38;5;241;43m*\u001b[39;49m\u001b[43mgather_kwargs\u001b[49m\u001b[43m)\u001b[49m\n\u001b[1;32m    199\u001b[0m     \u001b[38;5;28;01mif\u001b[39;00m left_rows \u001b[38;5;129;01mis\u001b[39;00m \u001b[38;5;129;01mnot\u001b[39;00m \u001b[38;5;28;01mNone\u001b[39;00m\n\u001b[1;32m    200\u001b[0m     \u001b[38;5;28;01melse\u001b[39;00m cudf\u001b[38;5;241m.\u001b[39mDataFrame\u001b[38;5;241m.\u001b[39m_from_data({})\n\u001b[1;32m    201\u001b[0m )\n\u001b[1;32m    202\u001b[0m right_result \u001b[38;5;241m=\u001b[39m (\n\u001b[1;32m    203\u001b[0m     \u001b[38;5;28mself\u001b[39m\u001b[38;5;241m.\u001b[39mrhs\u001b[38;5;241m.\u001b[39m_gather(gather_map\u001b[38;5;241m=\u001b[39mright_rows, \u001b[38;5;241m*\u001b[39m\u001b[38;5;241m*\u001b[39mgather_kwargs)\n\u001b[1;32m    204\u001b[0m     \u001b[38;5;28;01mif\u001b[39;00m right_rows \u001b[38;5;129;01mis\u001b[39;00m \u001b[38;5;129;01mnot\u001b[39;00m \u001b[38;5;28;01mNone\u001b[39;00m\n\u001b[1;32m    205\u001b[0m     \u001b[38;5;28;01melse\u001b[39;00m cudf\u001b[38;5;241m.\u001b[39mDataFrame\u001b[38;5;241m.\u001b[39m_from_data({})\n\u001b[1;32m    206\u001b[0m )\n\u001b[1;32m    208\u001b[0m result \u001b[38;5;241m=\u001b[39m cudf\u001b[38;5;241m.\u001b[39mDataFrame\u001b[38;5;241m.\u001b[39m_from_data(\n\u001b[1;32m    209\u001b[0m     \u001b[38;5;241m*\u001b[39m\u001b[38;5;28mself\u001b[39m\u001b[38;5;241m.\u001b[39m_merge_results(left_result, right_result)\n\u001b[1;32m    210\u001b[0m )\n",
      "File \u001b[0;32m/usr/local/lib/python3.10/dist-packages/cudf/core/indexed_frame.py:1738\u001b[0m, in \u001b[0;36mIndexedFrame._gather\u001b[0;34m(self, gather_map, keep_index, nullify, check_bounds)\u001b[0m\n\u001b[1;32m   1732\u001b[0m \u001b[38;5;28;01mif\u001b[39;00m \u001b[38;5;129;01mnot\u001b[39;00m libcudf\u001b[38;5;241m.\u001b[39mcopying\u001b[38;5;241m.\u001b[39m_gather_map_is_valid(\n\u001b[1;32m   1733\u001b[0m     gather_map, \u001b[38;5;28mlen\u001b[39m(\u001b[38;5;28mself\u001b[39m), check_bounds, nullify\n\u001b[1;32m   1734\u001b[0m ):\n\u001b[1;32m   1735\u001b[0m     \u001b[38;5;28;01mraise\u001b[39;00m \u001b[38;5;167;01mIndexError\u001b[39;00m(\u001b[38;5;124m\"\u001b[39m\u001b[38;5;124mGather map index is out of bounds.\u001b[39m\u001b[38;5;124m\"\u001b[39m)\n\u001b[1;32m   1737\u001b[0m \u001b[38;5;28;01mreturn\u001b[39;00m \u001b[38;5;28mself\u001b[39m\u001b[38;5;241m.\u001b[39m_from_columns_like_self(\n\u001b[0;32m-> 1738\u001b[0m     \u001b[43mlibcudf\u001b[49m\u001b[38;5;241;43m.\u001b[39;49m\u001b[43mcopying\u001b[49m\u001b[38;5;241;43m.\u001b[39;49m\u001b[43mgather\u001b[49m\u001b[43m(\u001b[49m\n\u001b[1;32m   1739\u001b[0m \u001b[43m        \u001b[49m\u001b[38;5;28;43mlist\u001b[39;49m\u001b[43m(\u001b[49m\u001b[38;5;28;43mself\u001b[39;49m\u001b[38;5;241;43m.\u001b[39;49m\u001b[43m_index\u001b[49m\u001b[38;5;241;43m.\u001b[39;49m\u001b[43m_columns\u001b[49m\u001b[43m \u001b[49m\u001b[38;5;241;43m+\u001b[39;49m\u001b[43m \u001b[49m\u001b[38;5;28;43mself\u001b[39;49m\u001b[38;5;241;43m.\u001b[39;49m\u001b[43m_columns\u001b[49m\u001b[43m)\u001b[49m\n\u001b[1;32m   1740\u001b[0m \u001b[43m        \u001b[49m\u001b[38;5;28;43;01mif\u001b[39;49;00m\u001b[43m \u001b[49m\u001b[43mkeep_index\u001b[49m\n\u001b[1;32m   1741\u001b[0m \u001b[43m        \u001b[49m\u001b[38;5;28;43;01melse\u001b[39;49;00m\u001b[43m \u001b[49m\u001b[38;5;28;43mlist\u001b[39;49m\u001b[43m(\u001b[49m\u001b[38;5;28;43mself\u001b[39;49m\u001b[38;5;241;43m.\u001b[39;49m\u001b[43m_columns\u001b[49m\u001b[43m)\u001b[49m\u001b[43m,\u001b[49m\n\u001b[1;32m   1742\u001b[0m \u001b[43m        \u001b[49m\u001b[43mgather_map\u001b[49m\u001b[43m,\u001b[49m\n\u001b[1;32m   1743\u001b[0m \u001b[43m        \u001b[49m\u001b[43mnullify\u001b[49m\u001b[38;5;241;43m=\u001b[39;49m\u001b[43mnullify\u001b[49m\u001b[43m,\u001b[49m\n\u001b[1;32m   1744\u001b[0m \u001b[43m    \u001b[49m\u001b[43m)\u001b[49m,\n\u001b[1;32m   1745\u001b[0m     \u001b[38;5;28mself\u001b[39m\u001b[38;5;241m.\u001b[39m_column_names,\n\u001b[1;32m   1746\u001b[0m     \u001b[38;5;28mself\u001b[39m\u001b[38;5;241m.\u001b[39m_index\u001b[38;5;241m.\u001b[39mnames \u001b[38;5;28;01mif\u001b[39;00m keep_index \u001b[38;5;28;01melse\u001b[39;00m \u001b[38;5;28;01mNone\u001b[39;00m,\n\u001b[1;32m   1747\u001b[0m )\n",
      "File \u001b[0;32m/usr/lib/python3.10/contextlib.py:79\u001b[0m, in \u001b[0;36mContextDecorator.__call__.<locals>.inner\u001b[0;34m(*args, **kwds)\u001b[0m\n\u001b[1;32m     76\u001b[0m \u001b[38;5;129m@wraps\u001b[39m(func)\n\u001b[1;32m     77\u001b[0m \u001b[38;5;28;01mdef\u001b[39;00m \u001b[38;5;21minner\u001b[39m(\u001b[38;5;241m*\u001b[39margs, \u001b[38;5;241m*\u001b[39m\u001b[38;5;241m*\u001b[39mkwds):\n\u001b[1;32m     78\u001b[0m     \u001b[38;5;28;01mwith\u001b[39;00m \u001b[38;5;28mself\u001b[39m\u001b[38;5;241m.\u001b[39m_recreate_cm():\n\u001b[0;32m---> 79\u001b[0m         \u001b[38;5;28;01mreturn\u001b[39;00m \u001b[43mfunc\u001b[49m\u001b[43m(\u001b[49m\u001b[38;5;241;43m*\u001b[39;49m\u001b[43margs\u001b[49m\u001b[43m,\u001b[49m\u001b[43m \u001b[49m\u001b[38;5;241;43m*\u001b[39;49m\u001b[38;5;241;43m*\u001b[39;49m\u001b[43mkwds\u001b[49m\u001b[43m)\u001b[49m\n",
      "File \u001b[0;32mcopying.pyx:186\u001b[0m, in \u001b[0;36mcudf._lib.copying.gather\u001b[0;34m()\u001b[0m\n",
      "\u001b[0;31mMemoryError\u001b[0m: std::bad_alloc: out_of_memory: CUDA error at: /usr/local/include/rmm/mr/device/cuda_memory_resource.hpp:70: cudaErrorMemoryAllocation out of memory"
     ]
    }
   ],
   "source": [
    "label = label.loc[label['type'] == 'clicks']\n",
    "label.drop('type', axis=1, inplace=True)\n",
    "label['label'] = 1\n",
    "label = label.rename(columns={'aid': 'candidate'})\n",
    "\n",
    "cand = cand.merge(label, on=['session', 'candidate'], how='left').fillna(0)\n",
    "cand['past'] = cand.past.astype(int)"
   ]
  },
  {
   "cell_type": "code",
   "execution_count": null,
   "id": "f4f90cb2-ffa6-4055-8d43-8745cdda88ad",
   "metadata": {},
   "outputs": [],
   "source": [
    "model_out = lb_out / 'model'\n",
    "if not model_out.is_dir():\n",
    "    model_out.mkdir()\n",
    "    \n",
    "FEATURES = cand.columns[2 : -1]\n",
    "\n",
    "skf = GroupKFold(n_splits=5)\n",
    "for fold,(train_idx, valid_idx) in enumerate(skf.split(cand, cand['label'].to_numpy(), groups=cand['session'].to_numpy() )):\n",
    "    train_groups = cand.loc[train_idx].groupby('session').size().to_arrow().to_pylist()\n",
    "    val_groups = cand.loc[valid_idx].groupby('session').size().to_arrow().tolist()\n",
    "\n",
    "    X_train = cand.loc[train_idx, FEATURES]\n",
    "    y_train = cand.loc[train_idx, 'label']\n",
    "    X_valid = cand.loc[valid_idx, FEATURES]\n",
    "    y_valid = cand.loc[valid_idx, 'label']\n",
    "\n",
    "    dtrain = xgb.DMatrix(X_train, y_train, group=train_groups) \n",
    "    dvalid = xgb.DMatrix(X_valid, y_valid, group=val_groups) \n",
    "\n",
    "    xgb_parms = {'objective':'rank:pairwise', 'tree_method':'gpu_hist'}\n",
    "    model = xgb.train(xgb_parms, \n",
    "        dtrain=dtrain,\n",
    "        evals=[(dtrain,'train'),(dvalid,'valid')],\n",
    "        num_boost_round=1000,\n",
    "        verbose_eval=100)\n",
    "    model.save_model((lb_out / f'XGB_fold{fold}_click.xgb').as_posix())"
   ]
  },
  {
   "cell_type": "code",
   "execution_count": null,
   "id": "2caa6379-3175-4582-9e43-91d1d917a02a",
   "metadata": {},
   "outputs": [],
   "source": [
    "label = cudf.read_parquet((lb_in / 'test_labels.parquet').as_posix())\n",
    "cand = cudf.read_parquet((lb_out / 'cart_cand.parquet').as_posix())"
   ]
  },
  {
   "cell_type": "code",
   "execution_count": null,
   "id": "5438c6ed-af9a-4d4c-93c0-a81162778297",
   "metadata": {},
   "outputs": [],
   "source": [
    "label = label.loc[label['type'] == 'clicks']\n",
    "label.drop('type', axis=1, inplace=True)\n",
    "label['label'] = 1\n",
    "label = label.rename(columns={'aid': 'candidate'})\n",
    "\n",
    "cand = cand.merge(label, on=['session', 'candidate'], how='left').fillna(0)\n",
    "cand['past'] = cand.past.astype(int)"
   ]
  },
  {
   "cell_type": "code",
   "execution_count": null,
   "id": "a84d00c1-8eba-4e2e-8147-ff5b9eab06ad",
   "metadata": {},
   "outputs": [],
   "source": [
    "model_out = lb_out / 'model'\n",
    "if not model_out.is_dir():\n",
    "    model_out.mkdir()\n",
    "    \n",
    "FEATURES = cand.columns[2 : -1]\n",
    "\n",
    "skf = GroupKFold(n_splits=5)\n",
    "for fold,(train_idx, valid_idx) in enumerate(skf.split(cand, cand['label'].to_numpy(), groups=cand['session'].to_numpy() )):\n",
    "    train_groups = cand.loc[train_idx].groupby('session').size().to_arrow().to_pylist()\n",
    "    val_groups = cand.loc[valid_idx].groupby('session').size().to_arrow().tolist()\n",
    "\n",
    "    X_train = cand.loc[train_idx, FEATURES]\n",
    "    y_train = cand.loc[train_idx, 'label']\n",
    "    X_valid = cand.loc[valid_idx, FEATURES]\n",
    "    y_valid = cand.loc[valid_idx, 'label']\n",
    "\n",
    "    dtrain = xgb.DMatrix(X_train, y_train, group=train_groups) \n",
    "    dvalid = xgb.DMatrix(X_valid, y_valid, group=val_groups) \n",
    "\n",
    "    xgb_parms = {'objective':'rank:pairwise', 'tree_method':'gpu_hist'}\n",
    "    model = xgb.train(xgb_parms, \n",
    "        dtrain=dtrain,\n",
    "        evals=[(dtrain,'train'),(dvalid,'valid')],\n",
    "        num_boost_round=1000,\n",
    "        verbose_eval=100)\n",
    "    model.save_model((lb_out / f'XGB_fold{fold}_click.xgb').as_posix())"
   ]
  },
  {
   "cell_type": "code",
   "execution_count": null,
   "id": "1bfa51b0-57f6-43f7-b37a-9863f7aaba1d",
   "metadata": {},
   "outputs": [],
   "source": [
    "label = cudf.read_parquet((lb_in / 'test_labels.parquet').as_posix())\n",
    "cand = cudf.read_parquet((lb_out / 'order_cand.parquet').as_posix())"
   ]
  },
  {
   "cell_type": "code",
   "execution_count": null,
   "id": "86eb91b0-e801-47c8-af82-9840fcfad312",
   "metadata": {},
   "outputs": [],
   "source": [
    "label = label.loc[label['type'] == 'clicks']\n",
    "label.drop('type', axis=1, inplace=True)\n",
    "label['label'] = 1\n",
    "label = label.rename(columns={'aid': 'candidate'})\n",
    "\n",
    "cand = cand.merge(label, on=['session', 'candidate'], how='left').fillna(0)\n",
    "cand['past'] = cand.past.astype(int)"
   ]
  },
  {
   "cell_type": "code",
   "execution_count": null,
   "id": "229f76a6-89f0-4b3e-820b-9a4c693b20c0",
   "metadata": {},
   "outputs": [],
   "source": [
    "model_out = lb_out / 'model'\n",
    "if not model_out.is_dir():\n",
    "    model_out.mkdir()\n",
    "    \n",
    "FEATURES = cand.columns[2 : -1]\n",
    "\n",
    "skf = GroupKFold(n_splits=5)\n",
    "for fold,(train_idx, valid_idx) in enumerate(skf.split(cand, cand['label'].to_numpy(), groups=cand['session'].to_numpy() )):\n",
    "    train_groups = cand.loc[train_idx].groupby('session').size().to_arrow().to_pylist()\n",
    "    val_groups = cand.loc[valid_idx].groupby('session').size().to_arrow().tolist()\n",
    "\n",
    "    X_train = cand.loc[train_idx, FEATURES]\n",
    "    y_train = cand.loc[train_idx, 'label']\n",
    "    X_valid = cand.loc[valid_idx, FEATURES]\n",
    "    y_valid = cand.loc[valid_idx, 'label']\n",
    "\n",
    "    dtrain = xgb.DMatrix(X_train, y_train, group=train_groups) \n",
    "    dvalid = xgb.DMatrix(X_valid, y_valid, group=val_groups) \n",
    "\n",
    "    xgb_parms = {'objective':'rank:pairwise', 'tree_method':'gpu_hist'}\n",
    "    model = xgb.train(xgb_parms, \n",
    "        dtrain=dtrain,\n",
    "        evals=[(dtrain,'train'),(dvalid,'valid')],\n",
    "        num_boost_round=1000,\n",
    "        verbose_eval=100)\n",
    "    model.save_model((lb_out / f'XGB_fold{fold}_click.xgb').as_posix())"
   ]
  }
 ],
 "metadata": {
  "kernelspec": {
   "display_name": "Python 3 (ipykernel)",
   "language": "python",
   "name": "python3"
  },
  "language_info": {
   "codemirror_mode": {
    "name": "ipython",
    "version": 3
   },
   "file_extension": ".py",
   "mimetype": "text/x-python",
   "name": "python",
   "nbconvert_exporter": "python",
   "pygments_lexer": "ipython3",
   "version": "3.10.12"
  }
 },
 "nbformat": 4,
 "nbformat_minor": 5
}
