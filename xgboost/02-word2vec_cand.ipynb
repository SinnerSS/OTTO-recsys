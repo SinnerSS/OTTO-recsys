{
 "cells": [
  {
   "cell_type": "code",
   "execution_count": 1,
   "id": "4ec74e96",
   "metadata": {
    "lines_to_next_cell": 0
   },
   "outputs": [],
   "source": [
    "from tqdm import tqdm\n",
    "from pathlib import Path\n",
    "\n",
    "import cudf\n",
    "import numpy as np\n",
    "from annoy import AnnoyIndex\n",
    "from gensim.models import KeyedVectors"
   ]
  },
  {
   "cell_type": "code",
   "execution_count": 2,
   "id": "7ee21d5a",
   "metadata": {
    "lines_to_next_cell": 0
   },
   "outputs": [],
   "source": [
    "data_path = Path.cwd().parent / 'preprocess/data'\n",
    "model_path = Path.cwd().parent / 'word2vec/data'\n",
    "temp_path = Path.cwd() / 'data'\n",
    "if not temp_path.is_dir():\n",
    "    temp_path.mkdir()"
   ]
  },
  {
   "cell_type": "markdown",
   "id": "97c62102",
   "metadata": {
    "lines_to_next_cell": 0
   },
   "source": [
    "## LB"
   ]
  },
  {
   "cell_type": "code",
   "execution_count": 3,
   "id": "1d322fcb",
   "metadata": {
    "lines_to_next_cell": 0
   },
   "outputs": [],
   "source": [
    "lb_in = data_path / 'cv'\n",
    "lb_model = model_path / 'lb'\n",
    "lb_out = temp_path / 'lb'\n",
    "if not lb_out.is_dir():\n",
    "    lb_out.mkdir()"
   ]
  },
  {
   "cell_type": "code",
   "execution_count": 4,
   "id": "cb14d783",
   "metadata": {
    "lines_to_next_cell": 0
   },
   "outputs": [
    {
     "data": {
      "text/plain": [
       "True"
      ]
     },
     "execution_count": 4,
     "metadata": {},
     "output_type": "execute_result"
    }
   ],
   "source": [
    "wv = KeyedVectors.load((lb_model / 'w2vec.wordvectors').as_posix(), mmap='r')\n",
    "\n",
    "aid2idx = {aid: i for i, aid in enumerate(wv.index_to_key)}\n",
    "index = AnnoyIndex(50, 'euclidean')\n",
    "\n",
    "for aid, idx in aid2idx.items():\n",
    "    index.add_item(idx, wv.vectors[idx])\n",
    "\n",
    "index.build(20)"
   ]
  },
  {
   "cell_type": "code",
   "execution_count": 5,
   "id": "941f9c91",
   "metadata": {},
   "outputs": [
    {
     "name": "stderr",
     "output_type": "stream",
     "text": [
      "1783737it [11:52, 2503.19it/s]\n"
     ]
    }
   ],
   "source": [
    "cand = cudf.read_parquet((lb_out / 'cand.parquet').as_posix())\n",
    "\n",
    "data = cudf.read_parquet((lb_in / 'test_sessions.parquet').as_posix())\n",
    "data[['session', 'aid']] = data[['session', 'aid']].astype('int32')\n",
    "\n",
    "data = data.sort_values(\n",
    "    ['session', 'ts'], ascending=[True, False], ignore_index=True\n",
    ")\n",
    "\n",
    "data.drop(['ts', 'type'], axis=1, inplace=True)\n",
    "\n",
    "data.drop_duplicates(['session', 'aid'])\n",
    "data['n'] = data.groupby('session').cumcount()\n",
    "data['wgt'] = 1 / np.log2(data['n'] + 2)\n",
    "data.drop('n', axis=1, inplace=True)\n",
    "\n",
    "session_vectors = {}\n",
    "\n",
    "new_cands = []\n",
    "for session, group in tqdm(data.groupby('session')):\n",
    "    vectors = []\n",
    "\n",
    "    session_aids = group['aid'].to_arrow().to_pylist()\n",
    "    weights = group['wgt'].to_arrow().to_pylist()\n",
    "\n",
    "    for aid, weight in zip(session_aids, weights):\n",
    "        vectors.append(np.array(index.get_item_vector(aid2idx[aid])) * weight)\n",
    "\n",
    "    session_vector = np.mean(vectors, axis=0)\n",
    "    session_vectors.update({session: session_vector})\n",
    "\n",
    "    neighbors = index.get_nns_by_vector(session_vector, 20)\n",
    "    \n",
    "    cands = [{'session': session, 'candidate':wv.index_to_key[idx], 'w2v_rank':rank} for rank, idx in enumerate(neighbors)]\n",
    "\n",
    "    new_cands.extend(cands)\n",
    "new_cands = cudf.DataFrame(new_cands)\n",
    "\n",
    "cand = cand.merge(\n",
    "    new_cands, \n",
    "    on=['session', 'candidate'], \n",
    "    how='outer',\n",
    "    suffixes=('', '_new')\n",
    ").reset_index(drop=True)\n",
    "cand['w2v_rank'] = cand['w2v_rank'].fillna(-1)\n",
    "cand['past'] = cand['past'].fillna(False)\n",
    "\n",
    "sessions_vectors = cudf.DataFrame({\n",
    "    'session': list(session_vectors.keys()),\n",
    "    'vector': [list(v) for v in session_vectors.values()]\n",
    "})\n",
    "\n",
    "sessions_vectors.to_parquet((lb_out / 'sessions_vectors.parquet').as_posix())\n",
    "cand.to_parquet((lb_out / 'cand.parquet').as_posix())"
   ]
  }
 ],
 "metadata": {
  "kernelspec": {
   "display_name": "Python 3 (ipykernel)",
   "language": "python",
   "name": "python3"
  },
  "language_info": {
   "codemirror_mode": {
    "name": "ipython",
    "version": 3
   },
   "file_extension": ".py",
   "mimetype": "text/x-python",
   "name": "python",
   "nbconvert_exporter": "python",
   "pygments_lexer": "ipython3",
   "version": "3.10.12"
  }
 },
 "nbformat": 4,
 "nbformat_minor": 5
}
